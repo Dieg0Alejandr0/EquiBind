{
 "cells": [
  {
   "cell_type": "code",
   "execution_count": 1,
   "id": "61e92cf4-8ac3-43f0-bc1f-7498c1b849b7",
   "metadata": {},
   "outputs": [],
   "source": [
    "import torch\n",
    "import shutil\n",
    "import os"
   ]
  },
  {
   "cell_type": "code",
   "execution_count": 2,
   "id": "db7104d5-6f6d-4e16-8909-ac9d25e62e6d",
   "metadata": {},
   "outputs": [],
   "source": [
    "sbdd = torch.load('/data/rsg/nlp/xiangfu/sbdd_data/split_by_name.pt')"
   ]
  },
  {
   "cell_type": "code",
   "execution_count": 3,
   "id": "a1612719-2a21-42a7-939f-3fb83a1e7af5",
   "metadata": {},
   "outputs": [],
   "source": [
    "data_pairs = set(os.listdir(f'data/CrossDocked'))"
   ]
  },
  {
   "cell_type": "code",
   "execution_count": 4,
   "id": "ea312f01-9984-4dee-8bd9-95d1a749bb4a",
   "metadata": {},
   "outputs": [],
   "source": [
    "train_pairs = [pair[1].split('/')[1][:-4] for pair in sbdd['train']]"
   ]
  },
  {
   "cell_type": "code",
   "execution_count": 5,
   "id": "da7f40fe-de80-4ce7-ad60-d474147b39d7",
   "metadata": {},
   "outputs": [],
   "source": [
    "test_pairs = [pair[1].split('/')[1][:-4] for pair in sbdd['test']]"
   ]
  },
  {
   "cell_type": "code",
   "execution_count": 27,
   "id": "d52fa90e-4cab-4a46-953d-55581e6ce05d",
   "metadata": {
    "tags": []
   },
   "outputs": [],
   "source": [
    "with open('data/crossdocked_split_train', 'w') as file:\n",
    "    for pair in train_pairs:\n",
    "        if pair in data_pairs:\n",
    "            file.write( f\"{name}\\n\" )"
   ]
  },
  {
   "cell_type": "code",
   "execution_count": 35,
   "id": "80b4f50d-a058-4682-89d3-335ac249c4e9",
   "metadata": {},
   "outputs": [],
   "source": [
    "with open('data/crossdocked_split_test', 'w') as file:\n",
    "    for pair in test_pairs:\n",
    "        print(pair)\n",
    "        if pair in data_pairs:\n",
    "            file.write( f\"{name}\\n\" )"
   ]
  },
  {
   "cell_type": "code",
   "execution_count": null,
   "id": "ef20518f-2c20-4cae-b77b-2b05f8052bdf",
   "metadata": {},
   "outputs": [],
   "source": [
    "with open('data/crossdocked_split_valid', 'w') as file:\n",
    "    for name in data_pairs:\n",
    "        if not (name in train_pairs) and not (name in test_pairs):\n",
    "            file.write( f\"{name}\\n\" )"
   ]
  },
  {
   "cell_type": "code",
   "execution_count": 30,
   "id": "ac8163aa-c59f-4125-81a6-cdeefb4df84a",
   "metadata": {},
   "outputs": [
    {
     "data": {
      "text/plain": [
       "['2z3h_A_rec_1wn6_bst_lig_tt_docked_3',\n",
       " '4aaw_A_rec_4ac3_r83_lig_tt_min_0',\n",
       " '4yhj_A_rec_4yhj_an2_lig_tt_min_0',\n",
       " '14gs_A_rec_20gs_cbd_lig_tt_min_0',\n",
       " '2v3r_A_rec_1dy4_snp_lig_tt_docked_1',\n",
       " '4rn0_B_rec_4rn1_l8g_lig_tt_min_0',\n",
       " '1fmc_B_rec_1fmc_cho_lig_tt_docked_1',\n",
       " '3daf_A_rec_3daf_feg_lig_tt_docked_0',\n",
       " '1a2g_A_rec_4jmv_1ly_lig_tt_min_0',\n",
       " '5w2g_A_rec_5w2i_adp_lig_tt_min_0',\n",
       " '3dzh_A_rec_3u4i_cvr_lig_tt_docked_0',\n",
       " '3g51_A_rec_3g51_anp_lig_tt_min_0',\n",
       " '1coy_A_rec_1coy_and_lig_tt_docked_0',\n",
       " '2jjg_A_rec_2jjg_plp_lig_tt_min_0',\n",
       " '2rhy_A_rec_2rhy_mlz_lig_tt_min_0',\n",
       " '2pqw_A_rec_2rhy_mlz_lig_tt_min_0',\n",
       " '4g3d_B_rec_4idv_13v_lig_tt_min_0',\n",
       " '5bur_A_rec_5x8f_amp_lig_tt_docked_7',\n",
       " '3gs6_A_rec_2oxn_oan_lig_tt_docked_4',\n",
       " '1r1h_A_rec_1r1h_bir_lig_tt_docked_1',\n",
       " '1dxo_C_rec_1gg5_e09_lig_tt_min_0',\n",
       " '1gg5_A_rec_1kbo_340_lig_tt_min_0',\n",
       " '5q0k_A_rec_5q0q_9ld_lig_tt_docked_0',\n",
       " '5b08_A_rec_5b09_4mx_lig_tt_min_0',\n",
       " '2azy_A_rec_2azy_chd_lig_tt_docked_0',\n",
       " '5i0b_A_rec_5vef_m77_lig_tt_min_0',\n",
       " '1phk_A_rec_1phk_atp_lig_tt_min_0',\n",
       " '4keu_A_rec_4ket_pg4_lig_tt_min_0',\n",
       " '4q8b_B_rec_4q8b_sxx_lig_tt_min_0',\n",
       " '1djy_A_rec_1djz_ip2_lig_tt_min_0',\n",
       " '5l1v_A_rec_5l1v_7pf_lig_tt_docked_0',\n",
       " '4zfa_A_rec_1smj_pam_lig_tt_min_0',\n",
       " '2rma_A_rec_3rdd_ea4_lig_tt_docked_0',\n",
       " '3b6h_A_rec_3b6h_mxd_lig_tt_min_0',\n",
       " '2zen_A_rec_2afx_1bn_lig_tt_docked_7',\n",
       " '4p6p_A_rec_4p77_5rp_lig_tt_docked_0',\n",
       " '3u5y_B_rec_3u57_dh8_lig_tt_min_0',\n",
       " '4f1m_A_rec_4f1m_acp_lig_tt_min_0',\n",
       " '4tqr_A_rec_2xca_doc_lig_tt_min_0',\n",
       " '4lfu_A_rec_4y13_480_lig_tt_min_0',\n",
       " '3jyh_A_rec_3n0t_opy_lig_tt_min_0',\n",
       " '4iwq_A_rec_4jlc_su6_lig_tt_min_0',\n",
       " '1l3l_A_rec_1l3l_lae_lig_tt_min_0',\n",
       " '5ngz_A_rec_5ngz_2bg_lig_tt_min_0',\n",
       " '1e8h_A_rec_1e8h_adp_lig_tt_min_0',\n",
       " '2e24_A_rec_1j0n_ceg_lig_tt_docked_14',\n",
       " '2hcj_B_rec_2hcj_gdp_lig_tt_docked_0',\n",
       " '3kc1_A_rec_3kc1_2t6_lig_tt_min_0',\n",
       " '1d7j_A_rec_1tco_fk5_lig_tt_docked_0',\n",
       " '4ja8_B_rec_4ja8_1k9_lig_tt_docked_0',\n",
       " '4u5s_A_rec_4u54_3c5_lig_tt_min_0',\n",
       " '4iiy_A_rec_3tle_gsu_lig_tt_docked_12',\n",
       " '3v4t_A_rec_4e7f_udp_lig_tt_min_0',\n",
       " '3tym_A_rec_3n5v_xfh_lig_tt_min_0',\n",
       " '4d7o_A_rec_3n5z_xfm_lig_tt_min_0',\n",
       " '3ej8_A_rec_2nsi_itu_lig_tt_min_0',\n",
       " '1rs9_A_rec_1dmk_itu_lig_tt_min_0',\n",
       " '4kcq_A_rec_4cwv_hw8_lig_tt_min_0',\n",
       " '3pdh_A_rec_4buz_ocz_lig_tt_min_0',\n",
       " '1umd_B_rec_1umb_tdp_lig_tt_docked_1',\n",
       " '4pxz_A_rec_4pxz_6ad_lig_tt_min_0',\n",
       " '2gns_A_rec_4qer_stl_lig_tt_min_0',\n",
       " '1ai4_A_rec_1ai5_mnp_lig_tt_docked_0',\n",
       " '5mma_A_rec_4ztf_x2p_lig_tt_min_0',\n",
       " '2cy0_A_rec_2d5c_skm_lig_tt_min_0',\n",
       " '3w83_B_rec_2e6d_fum_lig_tt_min_0',\n",
       " '2e6d_A_rec_2e6d_fum_lig_tt_min_0',\n",
       " '4rv4_A_rec_4rv4_prp_lig_tt_docked_2',\n",
       " '5d7n_D_rec_4jt9_1ns_lig_tt_min_0',\n",
       " '5mgl_A_rec_5mgl_7mu_lig_tt_min_0',\n",
       " '1h36_A_rec_1o79_r23_lig_tt_docked_5',\n",
       " '4gvd_A_rec_4nxr_ans_lig_tt_min_0',\n",
       " '4tos_A_rec_4tos_355_lig_tt_min_0',\n",
       " '5aeh_A_rec_5aeh_8ir_lig_tt_docked_0',\n",
       " '4h3c_A_rec_5cqj_53q_lig_tt_docked_2',\n",
       " '4rlu_A_rec_4rlu_hcc_lig_tt_min_0',\n",
       " '4xli_B_rec_4xli_1n1_lig_tt_min_0',\n",
       " '3l3n_A_rec_2iux_nxa_lig_tt_docked_2',\n",
       " '5tjn_A_rec_1zj1_nlc_lig_tt_docked_4',\n",
       " '5liu_X_rec_4gq0_qap_lig_tt_min_0',\n",
       " '3o96_A_rec_3o96_iqo_lig_tt_docked_2',\n",
       " '4qlk_A_rec_4qlk_ctt_lig_tt_docked_0',\n",
       " '3hy9_B_rec_3hyg_099_lig_tt_min_0',\n",
       " '4bel_A_rec_2ewy_dbo_lig_tt_min_0',\n",
       " '3nfb_A_rec_3nfb_oae_lig_tt_docked_2',\n",
       " '4m7t_A_rec_4m7t_sam_lig_tt_min_0',\n",
       " '3u9f_C_rec_3u9f_clm_lig_tt_min_0',\n",
       " '4aua_A_rec_4aua_4au_lig_it2_tt_docked_7',\n",
       " '2f2c_B_rec_1xo2_fse_lig_tt_min_0',\n",
       " '3chc_B_rec_3ch9_xrg_lig_tt_min_0',\n",
       " '1k9t_A_rec_2wlz_dio_lig_tt_min_0',\n",
       " '1h0i_A_rec_1e6z_ngo_lig_it2_tt_docked_15',\n",
       " '4z2g_A_rec_4z2g_m6v_lig_tt_docked_16',\n",
       " '3af2_A_rec_3af4_gcp_lig_tt_min_0',\n",
       " '1jn2_P_rec_1val_png_lig_tt_docked_11',\n",
       " '3li4_A_rec_2gvv_di9_lig_tt_min_0',\n",
       " '3pnm_A_rec_3pnq_2ha_lig_tt_docked_10',\n",
       " '1afs_A_rec_1afs_tes_lig_tt_min_0',\n",
       " '4azf_A_rec_5lxc_7aa_lig_tt_min_0',\n",
       " '2pc8_A_rec_1eqc_cts_lig_tt_docked_6']"
      ]
     },
     "execution_count": 30,
     "metadata": {},
     "output_type": "execute_result"
    }
   ],
   "source": [
    "test_pairs"
   ]
  },
  {
   "cell_type": "code",
   "execution_count": 17,
   "id": "7a08557d-40ed-469a-b79d-9c37b4c8f440",
   "metadata": {},
   "outputs": [
    {
     "data": {
      "text/plain": [
       "100"
      ]
     },
     "execution_count": 17,
     "metadata": {},
     "output_type": "execute_result"
    }
   ],
   "source": [
    "len( sbdd['test'] )"
   ]
  },
  {
   "cell_type": "code",
   "execution_count": 18,
   "id": "e24e7fb7-4a33-40dc-9c4b-2e4591dc3cda",
   "metadata": {},
   "outputs": [
    {
     "data": {
      "text/plain": [
       "183357"
      ]
     },
     "execution_count": 18,
     "metadata": {},
     "output_type": "execute_result"
    }
   ],
   "source": [
    "len(set(data_pairs))"
   ]
  },
  {
   "cell_type": "code",
   "execution_count": null,
   "id": "fdaf78eb-6bc7-436d-8fa6-1330df9983d0",
   "metadata": {},
   "outputs": [],
   "source": []
  }
 ],
 "metadata": {
  "kernelspec": {
   "display_name": "Python 3 (ipykernel)",
   "language": "python",
   "name": "python3"
  },
  "language_info": {
   "codemirror_mode": {
    "name": "ipython",
    "version": 3
   },
   "file_extension": ".py",
   "mimetype": "text/x-python",
   "name": "python",
   "nbconvert_exporter": "python",
   "pygments_lexer": "ipython3",
   "version": "3.7.12"
  }
 },
 "nbformat": 4,
 "nbformat_minor": 5
}
