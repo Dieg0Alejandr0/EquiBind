{
 "cells": [
  {
   "cell_type": "code",
   "execution_count": 1,
   "id": "88a5bd59-9573-4b35-af1f-56f6b0ccd388",
   "metadata": {},
   "outputs": [],
   "source": [
    "import numpy as np\n",
    "import torch\n",
    "import matplotlib.pyplot as plt\n",
    "from sklearn.metrics import pairwise_distances\n",
    "from sklearn.decomposition import PCA\n",
    "import matplotlib.pyplot as plt\n",
    "from matplotlib.pyplot import scatter\n",
    "import plotly.graph_objects as go\n",
    "import yaml\n",
    "from rdkit import Chem\n",
    "import pickle\n",
    "import h5py"
   ]
  },
  {
   "cell_type": "code",
   "execution_count": 2,
   "id": "c3d235ac-e4de-4dc0-b0a7-4e52e66eda0d",
   "metadata": {},
   "outputs": [
    {
     "name": "stderr",
     "output_type": "stream",
     "text": [
      "Using backend: pytorch[21:53:30] /opt/dgl/src/runtime/tensordispatch.cc:43: TensorDispatcher: dlopen failed: libtorch_cuda.so: cannot open shared object file: No such file or directory\n",
      "\n"
     ]
    }
   ],
   "source": [
    "from datasets.pdbbind import PDBBind\n",
    "from commons.process_mols import *"
   ]
  },
  {
   "cell_type": "code",
   "execution_count": 3,
   "id": "07c5e146-b900-43ce-9722-e9bac1ae3a5c",
   "metadata": {},
   "outputs": [],
   "source": [
    "def pairwise_distance_matrix(array):\n",
    "    \n",
    "    first = True\n",
    "    for entry in array:\n",
    "        \n",
    "        if first:\n",
    "            pairwise_dist = pairwise_distances(entry.numpy()).flatten().reshape(1,-1)\n",
    "        else:\n",
    "            pairwise_dist = np.vstack( (pairwise_dist, pairwise_distances(entry.numpy()).flatten().reshape(1,-1)) ) \n",
    "\n",
    "        if first:\n",
    "            first = False\n",
    "            \n",
    "    return pairwise_dist"
   ]
  },
  {
   "cell_type": "code",
   "execution_count": 4,
   "id": "873cccc6-087b-4c18-8fe9-e52a785e3fde",
   "metadata": {},
   "outputs": [],
   "source": [
    "def store_data(data_names, data, path):\n",
    "  hf = h5py.File(path, 'w')\n",
    "  for i in range(len(data_names)):\n",
    "    hf.create_dataset(data_names[i], data=data[i])\n",
    "  hf.close()\n",
    "\n",
    "def load_data(data_names, path):\n",
    "  hf = h5py.File(path, 'r')\n",
    "  data = []\n",
    "  for i in range(len(data_names)):\n",
    "    d = np.array(hf.get(data_names[i]))\n",
    "    data.append(d)\n",
    "  hf.close()\n",
    "  return data"
   ]
  },
  {
   "cell_type": "code",
   "execution_count": 5,
   "id": "148b7e3c-438b-43a0-b136-2f1d63402af0",
   "metadata": {},
   "outputs": [],
   "source": [
    "results = torch.load('./runs/flexible_self_docking/predictions_RDKitTrue.pt')"
   ]
  },
  {
   "cell_type": "code",
   "execution_count": 6,
   "id": "622fb271-fb20-40b8-b62f-20a10260ec1e",
   "metadata": {},
   "outputs": [],
   "source": [
    "names, lig_keypts, rec_keypts, lig_coords = results['names'], results['lig_keypts'], results['rec_keypts'], results['targets']"
   ]
  },
  {
   "cell_type": "code",
   "execution_count": 8,
   "id": "72404a8a-59ce-41dd-abcb-9a97bd3d0d35",
   "metadata": {},
   "outputs": [],
   "source": [
    "rec_results = torch.load('./rec_data.pt')['all_alpha_coords']"
   ]
  },
  {
   "cell_type": "code",
   "execution_count": 10,
   "id": "b24ff668-e34f-4bd8-9130-5ff27d09e319",
   "metadata": {},
   "outputs": [],
   "source": [
    "rec_coords = rec_results"
   ]
  },
  {
   "cell_type": "markdown",
   "id": "18f82597-59c9-4e44-ba8d-ef83212163ce",
   "metadata": {
    "tags": []
   },
   "source": [
    "# Identifying Proteins-Ligands"
   ]
  },
  {
   "cell_type": "code",
   "execution_count": 75,
   "id": "7bf226ad-6e9f-49c9-a467-a07244a76d76",
   "metadata": {},
   "outputs": [],
   "source": [
    "complex_to_rec_lig = {}\n",
    "rec_to_complex_lig = {}\n",
    "rec_ids = {}\n",
    "lig_ids = {}\n",
    "\n",
    "rec_id, lig_id = 0, 0\n",
    "for name in names[:100]:\n",
    "\n",
    "    rec_smiles = Chem.MolToSmiles(read_molecule(f'./data/PDBBind/{name}/{name}_protein_processed.pdb'))\n",
    "    lig_smiles = Chem.MolToSmiles(read_molecule(f'./data/PDBBind/{name}/{name}_ligand.sdf'))\n",
    "    \n",
    "    complex_to_rec_lig[name] = (rec_smiles, lig_smiles)\n",
    "    \n",
    "    if rec_smiles not in rec_to_complex_lig:\n",
    "        rec_to_complex_lig[rec_smiles] = [(name, lig_smiles)]\n",
    "    else:\n",
    "        rec_to_complex_lig[rec_smiles].append( (name, lig_smiles) )\n",
    "    \n",
    "    if rec_smiles not in rec_ids:\n",
    "        rec_ids[rec_smiles] = rec_id\n",
    "        rec_id += 1\n",
    "    if lig_smiles not in lig_ids:\n",
    "        lig_ids[lig_smiles] = lig_id\n",
    "        lig_id += 1\n",
    "        \n",
    "complex_mappings = {'complex_to_rec_lig': complex_to_rec_lig, 'rec_to_complex_lig': rec_to_complex_lig, 'rec_ids': rec_ids, 'lig_ids': lig_ids }"
   ]
  },
  {
   "cell_type": "code",
   "execution_count": 90,
   "id": "0fae378f-aed4-4fba-80f1-e18c40d8069d",
   "metadata": {},
   "outputs": [],
   "source": [
    "complex_mappings = {'complex_to_rec_lig': complex_to_rec_lig, 'rec_to_complex_lig': rec_to_complex_lig, 'rec_ids': rec_ids, 'lig_ids': lig_ids }"
   ]
  },
  {
   "cell_type": "code",
   "execution_count": 92,
   "id": "bb0681e8-c973-4ec7-9655-503c325db4bb",
   "metadata": {},
   "outputs": [],
   "source": [
    "with open('complex_mappings.pickle', 'wb') as outfile:\n",
    "    pickle.dump(complex_mappings, outfile, protocol=pickle.HIGHEST_PROTOCOL)"
   ]
  },
  {
   "cell_type": "code",
   "execution_count": 11,
   "id": "cf90499e-e281-43ef-94d4-cc374d4fc3fa",
   "metadata": {},
   "outputs": [],
   "source": [
    "with open('complex_mappings.pickle', 'rb') as infile:\n",
    "    data = pickle.load(infile)"
   ]
  },
  {
   "cell_type": "markdown",
   "id": "b79abcef-ba90-451d-8126-eb5f5caacb41",
   "metadata": {},
   "source": [
    "# Visualizing All Pairs"
   ]
  },
  {
   "cell_type": "code",
   "execution_count": 22,
   "id": "a9ac2939-d5f8-4d2a-98ab-8a846ef81266",
   "metadata": {},
   "outputs": [
    {
     "data": {
      "text/plain": [
       "19094"
      ]
     },
     "execution_count": 22,
     "metadata": {},
     "output_type": "execute_result"
    }
   ],
   "source": [
    "len(lig_keypts)"
   ]
  },
  {
   "cell_type": "code",
   "execution_count": 67,
   "id": "50829b61-ebbc-49c0-adee-566b99befddd",
   "metadata": {},
   "outputs": [],
   "source": [
    "lig_matrix = pairwise_distance_matrix(lig_keypts[:100])\n",
    "rec_matrix = pairwise_distance_matrix(rec_keypts[:100])"
   ]
  },
  {
   "cell_type": "code",
   "execution_count": 72,
   "id": "7cbec971-d02b-46cb-a0c7-777ecd32aee4",
   "metadata": {},
   "outputs": [],
   "source": [
    "pca = PCA(n_components=2)\n",
    "lig_reduced = pca.fit_transform(lig_matrix)\n",
    "rec_reduced = pca.fit_transform(rec_matrix)"
   ]
  },
  {
   "cell_type": "code",
   "execution_count": 105,
   "id": "ba3de3ed-9470-4aa1-9e85-4933610c85c5",
   "metadata": {},
   "outputs": [],
   "source": [
    "store_data(['stacked_ligand', 'stacked_receptor', 'reduced_ligand', 'reduced_receptor'], [lig_matrix, rec_matrix, lig_reduced, rec_reduced], './pairwise_dist_data.h5')"
   ]
  },
  {
   "cell_type": "code",
   "execution_count": 12,
   "id": "703b24c7-1a58-4ad4-9acd-defe4cba767c",
   "metadata": {},
   "outputs": [],
   "source": [
    "stack_ligand, stacked_receptor, reduced_ligand, reduced_receptor = load_data(['stacked_ligand', 'stacked_receptor', 'reduced_ligand', 'reduced_receptor'], './pairwise_dist_data.h5')"
   ]
  },
  {
   "cell_type": "code",
   "execution_count": 103,
   "id": "d3d6261c-6343-4af7-9562-1c1bb0684998",
   "metadata": {},
   "outputs": [
    {
     "data": {
      "image/png": "[encoded data removed]",
      "text/plain": [
       "<Figure size 1440x576 with 2 Axes>"
      ]
     },
     "metadata": {
      "needs_background": "light"
     },
     "output_type": "display_data"
    }
   ],
   "source": [
    "fig, (ax1, ax2) = plt.subplots(1, 2, figsize=(20,8))\n",
    "ax1.scatter(lig_reduced[:,0], lig_reduced[:,1], color='blue', alpha=0.5)\n",
    "ax2.scatter(rec_reduced[:,0], rec_reduced[:,1], color='red', alpha=0.5)\n",
    "\n",
    "# fig.savefig('lig_rec_keypts_PCA.png')\n",
    "fig.show()"
   ]
  },
  {
   "cell_type": "code",
   "execution_count": 104,
   "id": "bcca1aad-9fb2-4636-8bfa-8a74b58d263f",
   "metadata": {},
   "outputs": [
    {
     "data": {
      "image/png": "[encoded data removed]",
      "text/plain": [
       "<Figure size 1440x576 with 2 Axes>"
      ]
     },
     "metadata": {
      "needs_background": "light"
     },
     "output_type": "display_data"
    }
   ],
   "source": [
    "fig, (ax1, ax2) = plt.subplots(1, 2, figsize=(20,8))\n",
    "colors = np.linspace(0, 1, num = len(lig_reduced))\n",
    "ax1.scatter(lig_reduced[:,0], lig_reduced[:,1], c=colors, cmap='plasma', alpha=0.5)\n",
    "ax2.scatter(rec_reduced[:,0], rec_reduced[:,1], c=colors, cmap='plasma', alpha=0.5)\n",
    "\n",
    "# fig.savefig('pairs_keypts_PCA.png')\n",
    "fig.show()"
   ]
  },
  {
   "cell_type": "code",
   "execution_count": 77,
   "id": "3d1e14b3-2e05-49cf-b757-7b6ebb1a59e2",
   "metadata": {},
   "outputs": [
    {
     "data": {
      "image/png": "[encoded data removed]",
      "text/plain": [
       "<Figure size 1440x576 with 2 Axes>"
      ]
     },
     "metadata": {
      "needs_background": "light"
     },
     "output_type": "display_data"
    }
   ],
   "source": [
    "fig, (ax1, ax2) = plt.subplots(1, 2, figsize=(20,8))\n",
    "\n",
    "rec_colors = []\n",
    "lig_colors = []\n",
    "for name in names[:100]:\n",
    "    \n",
    "    rec, lig = complex_to_rec_lig[name]\n",
    "    rec_colors.append( rec_ids[rec]/len(rec_ids) )\n",
    "    lig_colors.append( lig_ids[lig]/len(lig_ids) )\n",
    "\n",
    "    \n",
    "colors = np.linspace(0, 1, num = len(lig_reduced))\n",
    "ax1.scatter(lig_reduced[:,0], lig_reduced[:,1], c=rec_colors, cmap='plasma', alpha=0.5)\n",
    "ax2.scatter(rec_reduced[:,0], rec_reduced[:,1], c=lig_colors, cmap='plasma', alpha=0.5)\n",
    "\n",
    "# fig.savefig('thing.png')\n",
    "fig.show()"
   ]
  },
  {
   "cell_type": "code",
   "execution_count": 10,
   "id": "341e9247-eda7-4e77-8a3c-9cd375fdd756",
   "metadata": {},
   "outputs": [],
   "source": [
    "complex_to_rec_lig = data['complex_to_rec_lig']"
   ]
  },
  {
   "cell_type": "code",
   "execution_count": 11,
   "id": "05bb9a87-055b-41f8-b77f-7b87080275bb",
   "metadata": {},
   "outputs": [],
   "source": [
    "rec_ids, lig_ids = data['rec_ids'], data['lig_ids']"
   ]
  },
  {
   "cell_type": "code",
   "execution_count": 12,
   "id": "faaeb05d-64bb-43f6-ae6f-bdbb4d4036b1",
   "metadata": {},
   "outputs": [],
   "source": [
    "rec_freq, lig_freq = {}, {}\n",
    "for comp in complex_to_rec_lig:\n",
    "    rec, lig = complex_to_rec_lig[comp]\n",
    "    \n",
    "    if rec in rec_freq:\n",
    "        rec_freq[rec] += 1\n",
    "    else:\n",
    "        rec_freq[rec] = 1\n",
    "        \n",
    "    if lig in lig_freq:\n",
    "        lig_freq[lig] += 1\n",
    "    else:\n",
    "        lig_freq[lig] = 1"
   ]
  },
  {
   "cell_type": "code",
   "execution_count": 13,
   "id": "924f0430-4bf8-437d-952f-10e1e0d55513",
   "metadata": {},
   "outputs": [],
   "source": [
    "rec_tuples, lig_tuples = [(rec, rec_freq[rec]) for rec in rec_freq], [(lig, lig_freq[lig]) for lig in lig_freq]"
   ]
  },
  {
   "cell_type": "code",
   "execution_count": 14,
   "id": "d2f0edb3-5841-4afc-8d40-e7bca6c8d9c4",
   "metadata": {},
   "outputs": [],
   "source": [
    "rec_tuples.sort(key=lambda tup: tup[1], reverse=True)\n",
    "lig_tuples.sort(key=lambda tup: tup[1], reverse=True)"
   ]
  },
  {
   "cell_type": "code",
   "execution_count": 42,
   "id": "fb6c5faf-09bb-4f06-8553-14861056c9f1",
   "metadata": {},
   "outputs": [],
   "source": [
    "num_freq = 5"
   ]
  },
  {
   "cell_type": "code",
   "execution_count": 43,
   "id": "4e679eca-eed4-4af8-b7a0-3fbc35df7b8d",
   "metadata": {},
   "outputs": [],
   "source": [
    "recs = [rec_tup[0] for rec_tup in rec_tuples[:num_freq]]\n",
    "ligs = [lig_tup[0] for lig_tup in lig_tuples[:num_freq]]"
   ]
  },
  {
   "cell_type": "code",
   "execution_count": 44,
   "id": "bfe33d83-9b3b-418f-b161-8986d6ce80df",
   "metadata": {},
   "outputs": [],
   "source": [
    "lig_indices, rec_indices = [], []\n",
    "for i in range(len(names)):\n",
    "    if complex_to_rec_lig[names[i]][0] in recs:\n",
    "        rec_indices.append(i)\n",
    "    \n",
    "    if complex_to_rec_lig[names[i]][1] in ligs:\n",
    "        lig_indices.append(i)"
   ]
  },
  {
   "cell_type": "code",
   "execution_count": 45,
   "id": "7e84cbe2-2689-432c-a02c-2763e006b281",
   "metadata": {},
   "outputs": [
    {
     "name": "stdout",
     "output_type": "stream",
     "text": [
      "368 263\n"
     ]
    }
   ],
   "source": [
    "print(len(rec_indices), len(lig_indices))"
   ]
  },
  {
   "cell_type": "code",
   "execution_count": 46,
   "id": "9148c5c1-d4cc-48da-91dc-0df1c03b9884",
   "metadata": {},
   "outputs": [
    {
     "data": {
      "image/png": "[encoded data removed]",
      "text/plain": [
       "<Figure size 1440x576 with 2 Axes>"
      ]
     },
     "metadata": {
      "needs_background": "light"
     },
     "output_type": "display_data"
    }
   ],
   "source": [
    "fig, (ax1, ax2) = plt.subplots(1, 2, figsize=(20,8))\n",
    "\n",
    "rec_colors, lig_colors = [], []\n",
    "for rec_i in rec_indices:\n",
    "    \n",
    "    rec, lig = complex_to_rec_lig[names[rec_i]]\n",
    "    rec_colors.append( recs.index(rec)/len(rec_indices) )\n",
    "    \n",
    "for lig_i in lig_indices:\n",
    "    \n",
    "    rec, lig = complex_to_rec_lig[names[lig_i]]\n",
    "    lig_colors.append( ligs.index(lig)/len(lig_indices) )\n",
    "\n",
    "    \n",
    "visual_lig, visual_rec = np.take(reduced_ligand, lig_indices, axis=0), np.take(reduced_receptor, rec_indices, axis=0)\n",
    "ax1.set_xlim(-150, 150)\n",
    "ax1.set_ylim(-80, 100)\n",
    "ax2.set_xlim(-150, 150)\n",
    "ax2.set_ylim(-80, 100)\n",
    "ax1.scatter(visual_lig[:,0], visual_lig[:,1], c=lig_colors, cmap='plasma', alpha=0.5)\n",
    "ax2.scatter(visual_rec[:,0], visual_rec[:,1], c=rec_colors, cmap='plasma', alpha=0.5)\n",
    "\n",
    "\n",
    "# fig.savefig('thing.png')\n",
    "fig.show()"
   ]
  },
  {
   "cell_type": "markdown",
   "id": "fde943e0-7a53-4682-9a5a-da3f539e424c",
   "metadata": {},
   "source": [
    "# Visualizing Protein-Ligand Pair, Fixed Protein, Different Ligands"
   ]
  },
  {
   "cell_type": "code",
   "execution_count": 13,
   "id": "c06434ca-0337-4c56-bf90-ebd7b16f4ba2",
   "metadata": {},
   "outputs": [],
   "source": [
    "def visualize_pair(lig_keypts, lig_coords, rec_keypts, rec_coords, name):\n",
    "    \n",
    "    lig_keypt_scatter = go.Scatter3d(x=lig_keypts[:, 0], \n",
    "                                    y=lig_keypts[:, 1], \n",
    "                                    z=lig_keypts[:, 2], \n",
    "                                    mode='markers', \n",
    "                                    name='Ligand Keypoints',\n",
    "                                    marker=dict(size=3, color='blue', opacity=1))\n",
    "    lig_coord_scatter = go.Scatter3d(x=lig_coords[:, 0], \n",
    "                                    y=lig_coords[:, 1], \n",
    "                                    z=lig_coords[:, 2], \n",
    "                                    mode='markers', \n",
    "                                    name='Ligand Coordinates',\n",
    "                                    marker=dict(size=3, color='blue', opacity=0.5))\n",
    "    rec_keypt_scatter = go.Scatter3d(x=rec_keypts[:, 0], \n",
    "                                    y=rec_keypts[:, 1], \n",
    "                                    z=rec_keypts[:, 2], \n",
    "                                    mode='markers', \n",
    "                                    name='Receptor Keypoints',\n",
    "                                    marker=dict(size=3, color='red', opacity=1))\n",
    "    rec_coord_scatter = go.Scatter3d(x=rec_coords[:, 0], \n",
    "                                    y=rec_coords[:, 1], \n",
    "                                    z=rec_coords[:, 2], \n",
    "                                    mode='markers', \n",
    "                                    name='Receptor Keypoints',\n",
    "                                    marker=dict(size=3, color='red', opacity=0.5))\n",
    "    \"\"\"\n",
    "    get_edgeIDs = lambda graph : torch.t( torch.vstack((graph.edges()[0], graph.edges()[1])) ).cpu().numpy()\n",
    "    \n",
    "    ligand_edges = get_edgeIDs(ligand_graph)\n",
    "    receptor_edges = get_edgeIDs(receptor_graph)\n",
    "    \n",
    "    ligand_Xe = []\n",
    "    ligand_Ye = []\n",
    "    ligand_Ze = []\n",
    "\n",
    "    receptor_Xe = []\n",
    "    receptor_Ye = []\n",
    "    receptor_Ze = []\n",
    "\n",
    "    for e in ligand_edges:\n",
    "        ligand_Xe += [ligand_coord[e[0], 0], ligand_coord[e[1], 0], None]\n",
    "        ligand_Ye += [ligand_coord[e[0], 1], ligand_coord[e[1], 1], None]\n",
    "        ligand_Ze += [ligand_coord[e[0], 2], ligand_coord[e[1], 2], None]\n",
    "\n",
    "    for e in receptor_edges:\n",
    "        receptor_Xe += [receptor_coord[e[0], 0], receptor_coord[e[1], 0], None]\n",
    "        receptor_Ye += [receptor_coord[e[0], 1], receptor_coord[e[1], 1], None]\n",
    "        receptor_Ze += [receptor_coord[e[0], 2], receptor_coord[e[1], 2], None]\n",
    "        \n",
    "        \n",
    "    ligand_edges = go.Scatter3d(x=ligand_Xe, y=ligand_Ye, z=ligand_Ze, name='', mode='lines', line=dict(color='rgb(125,125,125)', width=.5), hoverinfo='none')\n",
    "    receptor_edges = go.Scatter3d(x=receptor_Xe, y=receptor_Ye, z=receptor_Ze, name='', mode='lines', line=dict(color='rgb(125,125,125)', width=.5), hoverinfo='none')\n",
    "    \"\"\"\n",
    "    \n",
    "    graph_objects = [lig_keypt_scatter, rec_keypt_scatter, lig_coord_scatter, rec_coord_scatter,\n",
    "                     #ligand_edges, receptor_edges\n",
    "                    ]\n",
    "\n",
    "    fig = go.Figure(data=graph_objects, \n",
    "                    layout=dict(scene=dict(xaxis=dict(visible=False), yaxis=dict(visible=False), zaxis=dict(visible=False)))\n",
    "                    )\n",
    "    \n",
    "    fig.write_html(f\"{name}.html\")\n",
    "    fig.show()"
   ]
  },
  {
   "cell_type": "code",
   "execution_count": 14,
   "id": "918c554f-05fb-4717-bdc2-c50bc51e3aa8",
   "metadata": {},
   "outputs": [],
   "source": [
    "rec_mapping = data['rec_to_complex_lig']"
   ]
  },
  {
   "cell_type": "code",
   "execution_count": 15,
   "id": "c4118a5f-0048-466e-a971-17f844b57729",
   "metadata": {},
   "outputs": [],
   "source": [
    "best_protein, max_length = '', 0\n",
    "for mapped in rec_mapping:\n",
    "    if len(rec_mapping[mapped]) > max_length:\n",
    "        best_protein = mapped\n",
    "        max_length = len(rec_mapping[mapped])"
   ]
  },
  {
   "cell_type": "code",
   "execution_count": 16,
   "id": "ee485deb-19b9-4e1e-a27b-570d317dab35",
   "metadata": {},
   "outputs": [],
   "source": [
    "complexes = [pair[0] for pair in rec_mapping[best_protein][:5]]"
   ]
  },
  {
   "cell_type": "code",
   "execution_count": 17,
   "id": "16106cb5-5a7a-4463-919b-fa214e9dfc1f",
   "metadata": {},
   "outputs": [
    {
     "data": {
      "text/plain": [
       "['2fx6', '1pph', '1ce5', '1o3f', '1o3l']"
      ]
     },
     "execution_count": 17,
     "metadata": {},
     "output_type": "execute_result"
    }
   ],
   "source": [
    "complexes"
   ]
  },
  {
   "cell_type": "code",
   "execution_count": 18,
   "id": "fa75e2f6-5233-45ee-b919-59244915bf80",
   "metadata": {},
   "outputs": [],
   "source": [
    "indices = []\n",
    "for i in range(len(names)):\n",
    "    if names[i] in complexes:\n",
    "        indices.append(i)"
   ]
  },
  {
   "cell_type": "code",
   "execution_count": 33,
   "id": "dbe51de6-f42d-42e6-a750-9846bfcdc2bb",
   "metadata": {},
   "outputs": [],
   "source": [
    "i = 4"
   ]
  },
  {
   "cell_type": "code",
   "execution_count": 34,
   "id": "b2533342-4815-417f-8e57-c24b46ea22b5",
   "metadata": {},
   "outputs": [
    {
     "data": {
      "application/vnd.plotly.v1+json": {
       "config": {
        "plotlyServerURL": "https://plot.ly"
       },
       "data": [
        {
         "marker": {
          "color": "blue",
          "opacity": 1,
          "size": 3
         },
         "mode": "markers",
         "name": "Ligand Keypoints",
         "type": "scatter3d",
         "x": [
          43.5400276184082,
          43.104156494140625,
          43.694549560546875,
          44.0953369140625,
          43.47262191772461,
          43.630653381347656,
          42.475425720214844,
          43.82192611694336,
          43.61221694946289,
          44.17397689819336,
          43.6805534362793,
          42.839630126953125,
          43.658668518066406,
          43.42313003540039,
          43.761531829833984,
          43.168365478515625,
          44.340476989746094,
          43.04497146606445,
          43.852352142333984,
          42.501705169677734,
          44.24449920654297,
          42.43881607055664,
          43.310768127441406,
          44.26471710205078,
          43.5824089050293,
          43.088924407958984,
          43.76580810546875,
          42.00400161743164,
          43.01959991455078,
          42.27155685424805
         ],
         "y": [
          -2.2840611934661865,
          -3.0251505374908447,
          -1.5716584920883179,
          -2.9512505531311035,
          -2.33784556388855,
          -1.2365567684173584,
          -2.777693748474121,
          -0.3724198341369629,
          -2.9347047805786133,
          -3.02355694770813,
          -2.9466004371643066,
          -2.0685176849365234,
          -0.3489267826080322,
          -2.8116047382354736,
          -2.0352463722229004,
          -2.0284223556518555,
          -3.009342670440674,
          -1.3650325536727905,
          -0.046308040618896484,
          -2.4683051109313965,
          -2.979447603225708,
          -2.609740972518921,
          -2.7428648471832275,
          -2.985827684402466,
          -2.6663818359375,
          -2.2868692874908447,
          -2.70355224609375,
          -3.1352736949920654,
          -2.6798858642578125,
          -2.7034475803375244
         ],
         "z": [
          29.83369255065918,
          28.165531158447266,
          31.327434539794922,
          25.33732795715332,
          29.796438217163086,
          33.11384582519531,
          34.391273498535156,
          34.37306213378906,
          26.921234130859375,
          24.944196701049805,
          26.70411491394043,
          34.66221237182617,
          35.26063919067383,
          28.306062698364258,
          29.52977180480957,
          33.299903869628906,
          24.553068161010742,
          35.45706558227539,
          35.09104919433594,
          35.37128829956055,
          24.720611572265625,
          35.1522102355957,
          28.707359313964844,
          24.67127227783203,
          28.17348289489746,
          32.67445755004883,
          27.366708755493164,
          35.73271179199219,
          31.006113052368164,
          35.761390686035156
         ]
        },
        {
         "marker": {
          "color": "red",
          "opacity": 1,
          "size": 3
         },
         "mode": "markers",
         "name": "Receptor Keypoints",
         "type": "scatter3d",
         "x": [
          43.485897064208984,
          43.98948669433594,
          43.277591705322266,
          44.01401138305664,
          43.70299530029297,
          43.850948333740234,
          42.5440788269043,
          43.96170425415039,
          43.548797607421875,
          44.18632507324219,
          44.24211502075195,
          42.07351303100586,
          43.43051528930664,
          43.34720993041992,
          43.36241149902344,
          42.921409606933594,
          43.930904388427734,
          42.814842224121094,
          43.58415603637695,
          41.730995178222656,
          43.76972198486328,
          42.77172088623047,
          43.78400802612305,
          44.294857025146484,
          44.811885833740234,
          42.98786544799805,
          43.01301574707031,
          42.94969940185547,
          42.71138000488281,
          42.789398193359375
         ],
         "y": [
          -1.7431902885437012,
          -1.7918161153793335,
          -0.6492927074432373,
          -3.6080682277679443,
          -1.1933302879333496,
          -0.4117799699306488,
          -3.419070243835449,
          -0.10217992216348648,
          -4.256414890289307,
          -2.3296313285827637,
          -1.8954359292984009,
          -1.8267189264297485,
          -1.254781723022461,
          -3.2491109371185303,
          -2.031317710876465,
          -2.4422099590301514,
          -4.518631935119629,
          -1.1923774480819702,
          -0.157610222697258,
          -4.745448589324951,
          -4.374248504638672,
          -1.8774176836013794,
          -1.9143563508987427,
          -3.3641176223754883,
          -0.8518681526184082,
          -2.8858141899108887,
          -3.462609052658081,
          -2.480743408203125,
          -3.9900624752044678,
          -1.116839051246643
         ],
         "z": [
          30.35809326171875,
          27.772201538085938,
          31.88819694519043,
          24.556962966918945,
          30.00658416748047,
          33.68160629272461,
          33.9113655090332,
          35.318511962890625,
          25.790739059448242,
          24.353322982788086,
          25.377683639526367,
          34.28398895263672,
          36.157798767089844,
          28.269800186157227,
          31.18436622619629,
          33.59543228149414,
          23.421478271484375,
          36.104957580566406,
          36.09388732910156,
          34.74411392211914,
          24.28297233581543,
          34.8505744934082,
          28.653038024902344,
          23.46698760986328,
          27.694734573364258,
          32.83820724487305,
          28.3979434967041,
          35.59714126586914,
          31.843687057495117,
          35.90919494628906
         ]
        },
        {
         "marker": {
          "color": "blue",
          "opacity": 0.5,
          "size": 3
         },
         "mode": "markers",
         "name": "Ligand Coordinates",
         "type": "scatter3d",
         "x": [
          43.965999603271484,
          44.26100158691406,
          44.132999420166016,
          43.7140007019043,
          43.409000396728516,
          43.52399826049805,
          44.117000579833984,
          43.823001861572266,
          44.553001403808594,
          43.50299835205078,
          43.02399826049805,
          43.073001861572266,
          42.917999267578125,
          42.64799880981445,
          42.48400115966797,
          42.17399978637695,
          42.0880012512207,
          41.06999969482422,
          43.029998779296875,
          42.599998474121094,
          42.858001708984375,
          43.01499938964844,
          43.244998931884766,
          43.018001556396484,
          44.60129928588867,
          44.35660171508789,
          43.2775993347168,
          43.940399169921875,
          43.47600173950195,
          44.79439926147461,
          44.6526985168457,
          43.653499603271484,
          42.71540069580078,
          42.56370162963867,
          42.96870040893555,
          41.20899963378906,
          42.48979949951172,
          44.04560089111328
         ],
         "y": [
          -2.9639999866485596,
          -1.5779999494552612,
          -0.8650000095367432,
          -1.562000036239624,
          -2.871000051498413,
          -3.6050000190734863,
          -3.6619999408721924,
          -4.942999839782715,
          -3.0480000972747803,
          -1.121000051498413,
          -3.190000057220459,
          -2.0810000896453857,
          -1.9290000200271606,
          -3.0429999828338623,
          -2.940999984741211,
          -4.247000217437744,
          -4.09499979019165,
          -3.6059999465942383,
          -4.466000080108643,
          -1.6820000410079956,
          -0.6129999756813049,
          -0.7099999785423279,
          0.4339999854564667,
          1.1490000486373901,
          -1.0513999462127686,
          0.19429999589920044,
          -4.660600185394287,
          -5.424699783325195,
          -5.461900234222412,
          -2.0473999977111816,
          -3.56820011138916,
          -0.14429999887943268,
          -4.184899806976318,
          -4.02400016784668,
          -4.974800109863281,
          -4.638899803161621,
          -1.5458999872207642,
          0.8446000218391418
         ],
         "z": [
          26.086999893188477,
          26.19499969482422,
          27.385000228881836,
          28.475000381469727,
          28.458999633789062,
          27.27899932861328,
          24.85099983215332,
          24.743999481201172,
          23.770999908447266,
          29.70199966430664,
          29.70199966430664,
          30.524999618530273,
          31.93899917602539,
          32.79199981689453,
          34.19499969482422,
          34.999000549316406,
          36.52199935913086,
          36.959999084472656,
          37.196998596191406,
          34.768001556396484,
          33.94499969482422,
          32.57400131225586,
          31.850000381469727,
          34.70800018310547,
          25.310699462890625,
          27.43950080871582,
          27.26930046081543,
          23.84119987487793,
          25.56329917907715,
          23.809499740600586,
          22.88759994506836,
          29.99220085144043,
          30.01959991455078,
          32.338600158691406,
          34.77799987792969,
          34.64509963989258,
          35.837799072265625,
          32.154598236083984
         ]
        },
        {
         "marker": {
          "color": "red",
          "opacity": 0.5,
          "size": 3
         },
         "mode": "markers",
         "name": "Receptor Keypoints",
         "type": "scatter3d",
         "x": [
          52.720001220703125,
          52.617000579833984,
          54.845001220703125,
          56.555999755859375,
          60.222999572753906,
          62.35599899291992,
          61.96900177001953,
          65.39600372314453,
          65.90499877929688,
          64.07599639892578,
          63.130001068115234,
          59.470001220703125,
          59.96799850463867,
          56.249000549316406,
          55.49800109863281,
          54.757999420166016,
          54.178001403808594,
          51.34600067138672,
          52.64400100708008,
          50.97999954223633,
          53.86600112915039,
          53.974998474121094,
          53.31399917602539,
          49.57899856567383,
          48.93000030517578,
          50.606998443603516,
          49.895999908447266,
          51.16299819946289,
          52.65399932861328,
          50.856998443603516,
          52.44300079345703,
          54.68899917602539,
          51.92300033569336,
          49.34700012207031,
          49.1150016784668,
          46.36199951171875,
          45.51599884033203,
          42.41999816894531,
          39.529998779296875,
          39.51300048828125,
          43.06999969482422,
          41.79600143432617,
          42.70199966430664,
          43.90299987792969,
          47.551998138427734,
          49.0369987487793,
          52.66899871826172,
          53.547000885009766,
          56.986000061035156,
          58.5359992980957,
          61.80799865722656,
          61.652000427246094,
          62.992000579833984,
          63.599998474121094,
          60.75600051879883,
          62.52799987792969,
          65.91899871826172,
          66.60800170898438,
          68.94400024414062,
          68.94000244140625,
          66.4729995727539,
          63.57899856567383,
          61.29100036621094,
          58.66400146484375,
          55.86000061035156,
          52.66600036621094,
          49.40599822998047,
          47.553001403808594,
          44.180999755859375,
          42.79600143432617,
          39.819000244140625,
          37.85599899291992,
          35.625,
          32.09000015258789,
          30.398000717163086,
          32.79499816894531,
          30.788000106811523,
          32.6870002746582,
          30.437000274658203,
          31.024999618530273,
          34.29899978637695,
          32.858001708984375,
          34.76499938964844,
          37.67900085449219,
          39.89099884033203,
          41.2760009765625,
          43.52899932861328,
          46.03900146484375,
          47.474998474121094,
          50.99100112915039,
          51.76499938964844,
          54.766998291015625,
          55.683998107910156,
          58.11600112915039,
          61.505001068115234,
          61.2130012512207,
          64.35700225830078,
          65.21199798583984,
          64.41300201416016,
          61.150001525878906,
          58.9379997253418,
          55.244998931884766,
          53.430999755859375,
          51.03300094604492,
          47.2869987487793,
          45.85100173950195,
          43.99399948120117,
          42.222999572753906,
          41.40299987792969,
          43.58000183105469,
          42.465999603271484,
          42.38199996948242,
          45.75199890136719,
          47.60200119018555,
          50.641998291015625,
          51.09000015258789,
          53.46699905395508,
          51.98899841308594,
          54.215999603271484,
          54,
          55.1510009765625,
          52.05799865722656,
          51.972999572753906,
          54.00299835205078,
          52.11800003051758,
          48.744998931884766,
          48.50299835205078,
          49.88100051879883,
          51.47600173950195,
          55.051998138427734,
          55.667999267578125,
          58.83599853515625,
          61.33599853515625,
          61.87699890136719,
          59.54499816894531,
          58.137001037597656,
          57.01300048828125,
          54.67599868774414,
          53.97600173950195,
          50.32699966430664,
          47.88600158691406,
          44.40999984741211,
          41.78900146484375,
          38.68299865722656,
          35.55099868774414,
          33.83700180053711,
          36.47200012207031,
          36.4010009765625,
          32.573001861572266,
          32.68199920654297,
          35.06800079345703,
          33.1609992980957,
          29.54199981689453,
          27.500999450683594,
          30.506000518798828,
          32.220001220703125,
          31.165000915527344,
          32.159000396728516,
          34.784000396728516,
          36.729000091552734,
          38.81100082397461,
          40.62200164794922,
          44.316001892089844,
          46.37799835205078,
          46.5629997253418,
          43.59299850463867,
          46.005001068115234,
          46.76900100708008,
          50.31800079345703,
          50.89500045776367,
          48.763999938964844,
          48.72999954223633,
          47.529998779296875,
          46.694000244140625,
          49.29999923706055,
          49.534000396728516,
          46.060001373291016,
          46.1609992980957,
          49.2760009765625,
          49.845001220703125,
          48.970001220703125,
          51.00199890136719,
          50.625,
          52.66400146484375,
          53.707000732421875,
          50.22200012207031,
          48.512001037597656,
          45.57500076293945,
          44.67100143432617,
          44.7400016784668,
          45.10900115966797,
          41.69300079345703,
          40.446998596191406,
          40.26499938964844,
          39.183998107910156,
          42.233001708984375,
          45.44599914550781,
          46.81399917602539,
          43.91299819946289,
          42.97700119018555,
          40.17399978637695,
          40.14400100708008,
          42.25600051879883,
          42.77399826049805,
          40.2599983215332,
          41.49599838256836,
          39.93899917602539,
          39.6870002746582,
          41.5260009765625,
          40.604000091552734,
          37.005001068115234,
          38.250999450683594,
          40.608001708984375,
          38.19200134277344,
          37.2599983215332,
          40.94900131225586,
          41.790000915527344,
          38.76300048828125,
          39.316001892089844,
          43.03200149536133,
          42.20399856567383,
          39.8390007019043,
          42.01499938964844
         ],
         "y": [
          -3.5450000762939453,
          -7.2230000495910645,
          -8.390999794006348,
          -4.98199987411499,
          -3.934000015258789,
          -1.6519999504089355,
          1.809999942779541,
          3.0439999103546143,
          5.88700008392334,
          9.109999656677246,
          8.107999801635742,
          8.913999557495117,
          12.378999710083008,
          13.128999710083008,
          10.02299976348877,
          10.706999778747559,
          8.395000457763672,
          9.258000373840332,
          8.416999816894531,
          8.038000106811523,
          6.244999885559082,
          3.8399999141693115,
          4.111999988555908,
          3.624000072479248,
          5.1539998054504395,
          6.89300012588501,
          10.253000259399414,
          12.53499984741211,
          16.003999710083008,
          18.336999893188477,
          21.667999267578125,
          22.683000564575195,
          22.759000778198242,
          20.211999893188477,
          16.42099952697754,
          14.335000038146973,
          10.965999603271484,
          8.779999732971191,
          9.657999992370605,
          6.271999835968018,
          6.986999988555908,
          9.888999938964844,
          10.005000114440918,
          12.746999740600586,
          13.123000144958496,
          12.711000442504883,
          13.51200008392334,
          13.604000091552734,
          12.185999870300293,
          13.397000312805176,
          12.312000274658203,
          8.829000473022461,
          5.599999904632568,
          3.359999895095825,
          4.448999881744385,
          2.803999900817871,
          4.574999809265137,
          8.310999870300293,
          8.234999656677246,
          11.958000183105469,
          13.829999923706055,
          13.279999732971191,
          16.190000534057617,
          15.371999740600586,
          17.920000076293945,
          17.822999954223633,
          18.156999588012695,
          21.40399932861328,
          20.090999603271484,
          17.159000396728516,
          17.76099967956543,
          14.642999649047852,
          15.04800033569336,
          16.06999969482422,
          13.310999870300293,
          10.557000160217285,
          7.331999778747559,
          4.934999942779541,
          2.072999954223633,
          2.306999921798706,
          4.261000156402588,
          6.589000225067139,
          9.958999633789062,
          8.357000350952148,
          11.446999549865723,
          13.779000282287598,
          16.871000289916992,
          17.468000411987305,
          20.878999710083008,
          20.910999298095703,
          23.07900047302246,
          24.55699920654297,
          24.34000015258789,
          21.59600067138672,
          22.52899932861328,
          21.14299964904785,
          19.91699981689453,
          16.94300079345703,
          14.50100040435791,
          16.12299919128418,
          17.384000778198242,
          17.72599983215332,
          15.840999603271484,
          17.54199981689453,
          17.184999465942383,
          16.017000198364258,
          18.117000579833984,
          15.147000312805176,
          11.640000343322754,
          8.76099967956543,
          6.0320000648498535,
          2.2880001068115234,
          0.7229999899864197,
          3.7920000553131104,
          2.4830000400543213,
          3.98799991607666,
          3.825000047683716,
          2.815000057220459,
          3.058000087738037,
          2.5179998874664307,
          0.7860000133514404,
          -1.4420000314712524,
          -5.197000026702881,
          -7.234000205993652,
          -10.559000015258789,
          -11.475000381469727,
          -14.402000427246094,
          -12.946999549865723,
          -9.680999755859375,
          -8.550000190734863,
          -4.794000148773193,
          -3.497999906539917,
          -0.9710000157356262,
          0.6880000233650208,
          1.9509999752044678,
          -0.5239999890327454,
          0.2639999985694885,
          -1.3949999809265137,
          -0.5080000162124634,
          -1.3140000104904175,
          -0.4269999861717224,
          1.1330000162124634,
          -1.4639999866485596,
          -0.796999990940094,
          0.1420000046491623,
          -3.0190000534057617,
          -5.296000003814697,
          -3.3429999351501465,
          -3.5320000648498535,
          -7.140999794006348,
          -7.750999927520752,
          -5.709000110626221,
          -5.665999889373779,
          -2.933000087738037,
          -1.5290000438690186,
          0.7630000114440918,
          4.394000053405762,
          7.000999927520752,
          8.182999610900879,
          4.945000171661377,
          3,
          -0.3199999928474426,
          -0.8019999861717224,
          -3.9790000915527344,
          -7.573999881744385,
          -9.954000473022461,
          -12.890999794006348,
          -11.824000358581543,
          -11.652999877929688,
          -7.870999813079834,
          -5.257999897003174,
          -2.5420000553131104,
          -3.6610000133514404,
          -2.377000093460083,
          0.1860000044107437,
          1.5529999732971191,
          3.305999994277954,
          7.013999938964844,
          6.771999835968018,
          7.736999988555908,
          6.2210001945495605,
          8.432000160217285,
          8.133999824523926,
          10.230999946594238,
          12.49899959564209,
          13.342000007629395,
          12.020999908447266,
          10.052000045776367,
          7.8979997634887695,
          7.3429999351501465,
          3.7660000324249268,
          3.015000104904175,
          -0.6190000176429749,
          -4.105999946594238,
          -7.673999786376953,
          -9.130999565124512,
          -8.1850004196167,
          -9.574000358581543,
          -12.095999717712402,
          -13.286999702453613,
          -11.232999801635742,
          -8.788000106811523,
          -5.800000190734863,
          -2.7269999980926514,
          0.1289999932050705,
          3.691999912261963,
          7.074999809265137,
          8.875,
          12.12600040435791,
          13.899999618530273,
          14.112000465393066,
          16.114999771118164,
          18.72800064086914,
          21.655000686645508,
          20.56399917602539,
          20.298999786376953,
          23.698999404907227,
          25.43600082397461,
          23.836999893188477,
          24.743999481201172,
          28.260000228881836,
          28.770000457763672,
          27.191999435424805
         ],
         "z": [
          25.434999465942383,
          24.437000274658203,
          21.555999755859375,
          21.194000244140625,
          21.368000030517578,
          23.54199981689453,
          22.086000442504883,
          23.125,
          25.64900016784668,
          24.891000747680664,
          21.354999542236328,
          22.165000915527344,
          23.768999099731445,
          24.117000579833984,
          26.229999542236328,
          29.89299964904785,
          32.87900161743164,
          35.35300064086914,
          38.805999755859375,
          42.25899887084961,
          44.029998779296875,
          41.00600051879883,
          37.268001556396484,
          36.57400131225586,
          33.09600067138672,
          30.173999786376953,
          28.506000518798828,
          25.732999801635742,
          26.07900047302246,
          23.606000900268555,
          24.695999145507812,
          27.645000457763672,
          30.18400001525879,
          29.02199935913086,
          28.749000549316406,
          27.170000076293945,
          28.709999084472656,
          29.211000442504883,
          31.461999893188477,
          33.178001403808594,
          34.3849983215332,
          36.500999450683594,
          40.24399948120117,
          42.5629997253418,
          43.52899932861328,
          40.06399917602539,
          39.37799835205078,
          35.65599822998047,
          34.823001861572266,
          31.576000213623047,
          29.94499969482422,
          31.295000076293945,
          29.89900016784668,
          32.986000061035156,
          35.41299819946289,
          38.39799880981445,
          37.97600173950195,
          37.810001373291016,
          34.72999954223633,
          33.94499969482422,
          31.621999740600586,
          33.983001708984375,
          34.94499969482422,
          37.69200134277344,
          37.77299880981445,
          39.742000579833984,
          37.880001068115234,
          38.875999450683594,
          37.49599838256836,
          35.5260009765625,
          33.2400016784668,
          32.41299819946289,
          29.34000015258789,
          30.673999786376953,
          28.611000061035156,
          29.645000457763672,
          30.31800079345703,
          32.59700012207031,
          31.535999298095703,
          27.761999130249023,
          27.91699981689453,
          25.26099967956543,
          25.35300064086914,
          27.260000228881836,
          27.23900032043457,
          29.885000228881836,
          29.808000564575195,
          32.63800048828125,
          33.27299880981445,
          34.808998107910156,
          37.89400100708008,
          35.999000549316406,
          32.34299850463867,
          31.29199981689453,
          29.660999298095703,
          26.148000717163086,
          24.45400047302246,
          22.243999481201172,
          25.024999618530273,
          26.121999740600586,
          23.2810001373291,
          22.496000289916992,
          19.753000259399414,
          17.29199981689453,
          17.29800033569336,
          13.911999702453613,
          11.399999618530273,
          9.831999778747559,
          11.041999816894531,
          9.819000244140625,
          7.447000026702881,
          7.947999954223633,
          7.229000091552734,
          8.569000244140625,
          10.543999671936035,
          14.010000228881836,
          16.950000762939453,
          20.327999114990234,
          23.416000366210938,
          27.172000885009766,
          30.3799991607666,
          30.562999725341797,
          31.013999938964844,
          28.533000946044922,
          29.143999099731445,
          27.756000518798828,
          30.158000946044922,
          33.42300033569336,
          34.57699966430664,
          33.82600021362305,
          33.94900131225586,
          32.277000427246094,
          33.597999572753906,
          30.20400047302246,
          27.53499984741211,
          25.006999969482422,
          21.488000869750977,
          19.075000762939453,
          15.447999954223633,
          14.593999862670898,
          11.822999954223633,
          12.258000373840332,
          11.262999534606934,
          9.178000450134277,
          11.081999778747559,
          9.82699966430664,
          11.279000282287598,
          14.538999557495117,
          14.87600040435791,
          13.901000022888184,
          16.785999298095703,
          19.36199951171875,
          18.158000946044922,
          19.833999633789062,
          21.78499984741211,
          19.264999389648438,
          19.035999298095703,
          16.488000869750977,
          19.051000595092773,
          18.961000442504883,
          16.422000885009766,
          16.551000595092773,
          15.824999809265137,
          16.027000427246094,
          14.8100004196167,
          14.621999740600586,
          14.895000457763672,
          18.55299949645996,
          20.07200050354004,
          19.599000930786133,
          21.481000900268555,
          24.170000076293945,
          27.66200065612793,
          31.172000885009766,
          32.14899826049805,
          28.638999938964844,
          28.98699951171875,
          28.360000610351562,
          26.2189998626709,
          22.575000762939453,
          19.204999923706055,
          16.783000946044922,
          13.057999610900879,
          10.659000396728516,
          13.473999977111816,
          14.75,
          17.902000427246094,
          16.430999755859375,
          19.429000854492188,
          23.177000045776367,
          24.506999969482422,
          26.051000595092773,
          26.273000717163086,
          24.746000289916992,
          25.746999740600586,
          27.476999282836914,
          25.76300048828125,
          22.533000946044922,
          22.148000717163086,
          18.676000595092773,
          17.065000534057617,
          20.04199981689453,
          18.91200065612793,
          21.06999969482422,
          21.027000427246094,
          21.0939998626709,
          21.635000228881836,
          18.250999450683594,
          18.944000244140625,
          15.644000053405762,
          17.02400016784668,
          19.98699951171875,
          18.58799934387207,
          18.948999404907227,
          22.4950008392334,
          23.41699981689453,
          22.010000228881836,
          23.57200050354004,
          26.93600082397461,
          27.020999908447266,
          25.867000579833984,
          28.812999725341797,
          31.591999053955078
         ]
        }
       ],
       "layout": {
        "autosize": true,
        "scene": {
         "aspectmode": "auto",
         "aspectratio": {
          "x": 1.0263138794556084,
          "y": 1.0691316474156145,
          "z": 0.9113571654546412
         },
         "camera": {
          "center": {
           "x": 0,
           "y": 0,
           "z": 0
          },
          "eye": {
           "x": -0.9013839751871695,
           "y": -0.7243181817601549,
           "z": 0.11588159158078225
          },
          "projection": {
           "type": "perspective"
          },
          "up": {
           "x": 0,
           "y": 0,
           "z": 1
          }
         },
         "xaxis": {
          "type": "linear",
          "visible": false
         },
         "yaxis": {
          "type": "linear",
          "visible": false
         },
         "zaxis": {
          "type": "linear",
          "visible": false
         }
        },
        "template": {
         "data": {
          "bar": [
           {
            "error_x": {
             "color": "#2a3f5f"
            },
            "error_y": {
             "color": "#2a3f5f"
            },
            "marker": {
             "line": {
              "color": "#E5ECF6",
              "width": 0.5
             },
             "pattern": {
              "fillmode": "overlay",
              "size": 10,
              "solidity": 0.2
             }
            },
            "type": "bar"
           }
          ],
          "barpolar": [
           {
            "marker": {
             "line": {
              "color": "#E5ECF6",
              "width": 0.5
             },
             "pattern": {
              "fillmode": "overlay",
              "size": 10,
              "solidity": 0.2
             }
            },
            "type": "barpolar"
           }
          ],
          "carpet": [
           {
            "aaxis": {
             "endlinecolor": "#2a3f5f",
             "gridcolor": "white",
             "linecolor": "white",
             "minorgridcolor": "white",
             "startlinecolor": "#2a3f5f"
            },
            "baxis": {
             "endlinecolor": "#2a3f5f",
             "gridcolor": "white",
             "linecolor": "white",
             "minorgridcolor": "white",
             "startlinecolor": "#2a3f5f"
            },
            "type": "carpet"
           }
          ],
          "choropleth": [
           {
            "colorbar": {
             "outlinewidth": 0,
             "ticks": ""
            },
            "type": "choropleth"
           }
          ],
          "contour": [
           {
            "colorbar": {
             "outlinewidth": 0,
             "ticks": ""
            },
            "colorscale": [
             [
              0,
              "#0d0887"
             ],
             [
              0.1111111111111111,
              "#46039f"
             ],
             [
              0.2222222222222222,
              "#7201a8"
             ],
             [
              0.3333333333333333,
              "#9c179e"
             ],
             [
              0.4444444444444444,
              "#bd3786"
             ],
             [
              0.5555555555555556,
              "#d8576b"
             ],
             [
              0.6666666666666666,
              "#ed7953"
             ],
             [
              0.7777777777777778,
              "#fb9f3a"
             ],
             [
              0.8888888888888888,
              "#fdca26"
             ],
             [
              1,
              "#f0f921"
             ]
            ],
            "type": "contour"
           }
          ],
          "contourcarpet": [
           {
            "colorbar": {
             "outlinewidth": 0,
             "ticks": ""
            },
            "type": "contourcarpet"
           }
          ],
          "heatmap": [
           {
            "colorbar": {
             "outlinewidth": 0,
             "ticks": ""
            },
            "colorscale": [
             [
              0,
              "#0d0887"
             ],
             [
              0.1111111111111111,
              "#46039f"
             ],
             [
              0.2222222222222222,
              "#7201a8"
             ],
             [
              0.3333333333333333,
              "#9c179e"
             ],
             [
              0.4444444444444444,
              "#bd3786"
             ],
             [
              0.5555555555555556,
              "#d8576b"
             ],
             [
              0.6666666666666666,
              "#ed7953"
             ],
             [
              0.7777777777777778,
              "#fb9f3a"
             ],
             [
              0.8888888888888888,
              "#fdca26"
             ],
             [
              1,
              "#f0f921"
             ]
            ],
            "type": "heatmap"
           }
          ],
          "heatmapgl": [
           {
            "colorbar": {
             "outlinewidth": 0,
             "ticks": ""
            },
            "colorscale": [
             [
              0,
              "#0d0887"
             ],
             [
              0.1111111111111111,
              "#46039f"
             ],
             [
              0.2222222222222222,
              "#7201a8"
             ],
             [
              0.3333333333333333,
              "#9c179e"
             ],
             [
              0.4444444444444444,
              "#bd3786"
             ],
             [
              0.5555555555555556,
              "#d8576b"
             ],
             [
              0.6666666666666666,
              "#ed7953"
             ],
             [
              0.7777777777777778,
              "#fb9f3a"
             ],
             [
              0.8888888888888888,
              "#fdca26"
             ],
             [
              1,
              "#f0f921"
             ]
            ],
            "type": "heatmapgl"
           }
          ],
          "histogram": [
           {
            "marker": {
             "pattern": {
              "fillmode": "overlay",
              "size": 10,
              "solidity": 0.2
             }
            },
            "type": "histogram"
           }
          ],
          "histogram2d": [
           {
            "colorbar": {
             "outlinewidth": 0,
             "ticks": ""
            },
            "colorscale": [
             [
              0,
              "#0d0887"
             ],
             [
              0.1111111111111111,
              "#46039f"
             ],
             [
              0.2222222222222222,
              "#7201a8"
             ],
             [
              0.3333333333333333,
              "#9c179e"
             ],
             [
              0.4444444444444444,
              "#bd3786"
             ],
             [
              0.5555555555555556,
              "#d8576b"
             ],
             [
              0.6666666666666666,
              "#ed7953"
             ],
             [
              0.7777777777777778,
              "#fb9f3a"
             ],
             [
              0.8888888888888888,
              "#fdca26"
             ],
             [
              1,
              "#f0f921"
             ]
            ],
            "type": "histogram2d"
           }
          ],
          "histogram2dcontour": [
           {
            "colorbar": {
             "outlinewidth": 0,
             "ticks": ""
            },
            "colorscale": [
             [
              0,
              "#0d0887"
             ],
             [
              0.1111111111111111,
              "#46039f"
             ],
             [
              0.2222222222222222,
              "#7201a8"
             ],
             [
              0.3333333333333333,
              "#9c179e"
             ],
             [
              0.4444444444444444,
              "#bd3786"
             ],
             [
              0.5555555555555556,
              "#d8576b"
             ],
             [
              0.6666666666666666,
              "#ed7953"
             ],
             [
              0.7777777777777778,
              "#fb9f3a"
             ],
             [
              0.8888888888888888,
              "#fdca26"
             ],
             [
              1,
              "#f0f921"
             ]
            ],
            "type": "histogram2dcontour"
           }
          ],
          "mesh3d": [
           {
            "colorbar": {
             "outlinewidth": 0,
             "ticks": ""
            },
            "type": "mesh3d"
           }
          ],
          "parcoords": [
           {
            "line": {
             "colorbar": {
              "outlinewidth": 0,
              "ticks": ""
             }
            },
            "type": "parcoords"
           }
          ],
          "pie": [
           {
            "automargin": true,
            "type": "pie"
           }
          ],
          "scatter": [
           {
            "marker": {
             "colorbar": {
              "outlinewidth": 0,
              "ticks": ""
             }
            },
            "type": "scatter"
           }
          ],
          "scatter3d": [
           {
            "line": {
             "colorbar": {
              "outlinewidth": 0,
              "ticks": ""
             }
            },
            "marker": {
             "colorbar": {
              "outlinewidth": 0,
              "ticks": ""
             }
            },
            "type": "scatter3d"
           }
          ],
          "scattercarpet": [
           {
            "marker": {
             "colorbar": {
              "outlinewidth": 0,
              "ticks": ""
             }
            },
            "type": "scattercarpet"
           }
          ],
          "scattergeo": [
           {
            "marker": {
             "colorbar": {
              "outlinewidth": 0,
              "ticks": ""
             }
            },
            "type": "scattergeo"
           }
          ],
          "scattergl": [
           {
            "marker": {
             "colorbar": {
              "outlinewidth": 0,
              "ticks": ""
             }
            },
            "type": "scattergl"
           }
          ],
          "scattermapbox": [
           {
            "marker": {
             "colorbar": {
              "outlinewidth": 0,
              "ticks": ""
             }
            },
            "type": "scattermapbox"
           }
          ],
          "scatterpolar": [
           {
            "marker": {
             "colorbar": {
              "outlinewidth": 0,
              "ticks": ""
             }
            },
            "type": "scatterpolar"
           }
          ],
          "scatterpolargl": [
           {
            "marker": {
             "colorbar": {
              "outlinewidth": 0,
              "ticks": ""
             }
            },
            "type": "scatterpolargl"
           }
          ],
          "scatterternary": [
           {
            "marker": {
             "colorbar": {
              "outlinewidth": 0,
              "ticks": ""
             }
            },
            "type": "scatterternary"
           }
          ],
          "surface": [
           {
            "colorbar": {
             "outlinewidth": 0,
             "ticks": ""
            },
            "colorscale": [
             [
              0,
              "#0d0887"
             ],
             [
              0.1111111111111111,
              "#46039f"
             ],
             [
              0.2222222222222222,
              "#7201a8"
             ],
             [
              0.3333333333333333,
              "#9c179e"
             ],
             [
              0.4444444444444444,
              "#bd3786"
             ],
             [
              0.5555555555555556,
              "#d8576b"
             ],
             [
              0.6666666666666666,
              "#ed7953"
             ],
             [
              0.7777777777777778,
              "#fb9f3a"
             ],
             [
              0.8888888888888888,
              "#fdca26"
             ],
             [
              1,
              "#f0f921"
             ]
            ],
            "type": "surface"
           }
          ],
          "table": [
           {
            "cells": {
             "fill": {
              "color": "#EBF0F8"
             },
             "line": {
              "color": "white"
             }
            },
            "header": {
             "fill": {
              "color": "#C8D4E3"
             },
             "line": {
              "color": "white"
             }
            },
            "type": "table"
           }
          ]
         },
         "layout": {
          "annotationdefaults": {
           "arrowcolor": "#2a3f5f",
           "arrowhead": 0,
           "arrowwidth": 1
          },
          "autotypenumbers": "strict",
          "coloraxis": {
           "colorbar": {
            "outlinewidth": 0,
            "ticks": ""
           }
          },
          "colorscale": {
           "diverging": [
            [
             0,
             "#8e0152"
            ],
            [
             0.1,
             "#c51b7d"
            ],
            [
             0.2,
             "#de77ae"
            ],
            [
             0.3,
             "#f1b6da"
            ],
            [
             0.4,
             "#fde0ef"
            ],
            [
             0.5,
             "#f7f7f7"
            ],
            [
             0.6,
             "#e6f5d0"
            ],
            [
             0.7,
             "#b8e186"
            ],
            [
             0.8,
             "#7fbc41"
            ],
            [
             0.9,
             "#4d9221"
            ],
            [
             1,
             "#276419"
            ]
           ],
           "sequential": [
            [
             0,
             "#0d0887"
            ],
            [
             0.1111111111111111,
             "#46039f"
            ],
            [
             0.2222222222222222,
             "#7201a8"
            ],
            [
             0.3333333333333333,
             "#9c179e"
            ],
            [
             0.4444444444444444,
             "#bd3786"
            ],
            [
             0.5555555555555556,
             "#d8576b"
            ],
            [
             0.6666666666666666,
             "#ed7953"
            ],
            [
             0.7777777777777778,
             "#fb9f3a"
            ],
            [
             0.8888888888888888,
             "#fdca26"
            ],
            [
             1,
             "#f0f921"
            ]
           ],
           "sequentialminus": [
            [
             0,
             "#0d0887"
            ],
            [
             0.1111111111111111,
             "#46039f"
            ],
            [
             0.2222222222222222,
             "#7201a8"
            ],
            [
             0.3333333333333333,
             "#9c179e"
            ],
            [
             0.4444444444444444,
             "#bd3786"
            ],
            [
             0.5555555555555556,
             "#d8576b"
            ],
            [
             0.6666666666666666,
             "#ed7953"
            ],
            [
             0.7777777777777778,
             "#fb9f3a"
            ],
            [
             0.8888888888888888,
             "#fdca26"
            ],
            [
             1,
             "#f0f921"
            ]
           ]
          },
          "colorway": [
           "#636efa",
           "#EF553B",
           "#00cc96",
           "#ab63fa",
           "#FFA15A",
           "#19d3f3",
           "#FF6692",
           "#B6E880",
           "#FF97FF",
           "#FECB52"
          ],
          "font": {
           "color": "#2a3f5f"
          },
          "geo": {
           "bgcolor": "white",
           "lakecolor": "white",
           "landcolor": "#E5ECF6",
           "showlakes": true,
           "showland": true,
           "subunitcolor": "white"
          },
          "hoverlabel": {
           "align": "left"
          },
          "hovermode": "closest",
          "mapbox": {
           "style": "light"
          },
          "paper_bgcolor": "white",
          "plot_bgcolor": "#E5ECF6",
          "polar": {
           "angularaxis": {
            "gridcolor": "white",
            "linecolor": "white",
            "ticks": ""
           },
           "bgcolor": "#E5ECF6",
           "radialaxis": {
            "gridcolor": "white",
            "linecolor": "white",
            "ticks": ""
           }
          },
          "scene": {
           "xaxis": {
            "backgroundcolor": "#E5ECF6",
            "gridcolor": "white",
            "gridwidth": 2,
            "linecolor": "white",
            "showbackground": true,
            "ticks": "",
            "zerolinecolor": "white"
           },
           "yaxis": {
            "backgroundcolor": "#E5ECF6",
            "gridcolor": "white",
            "gridwidth": 2,
            "linecolor": "white",
            "showbackground": true,
            "ticks": "",
            "zerolinecolor": "white"
           },
           "zaxis": {
            "backgroundcolor": "#E5ECF6",
            "gridcolor": "white",
            "gridwidth": 2,
            "linecolor": "white",
            "showbackground": true,
            "ticks": "",
            "zerolinecolor": "white"
           }
          },
          "shapedefaults": {
           "line": {
            "color": "#2a3f5f"
           }
          },
          "ternary": {
           "aaxis": {
            "gridcolor": "white",
            "linecolor": "white",
            "ticks": ""
           },
           "baxis": {
            "gridcolor": "white",
            "linecolor": "white",
            "ticks": ""
           },
           "bgcolor": "#E5ECF6",
           "caxis": {
            "gridcolor": "white",
            "linecolor": "white",
            "ticks": ""
           }
          },
          "title": {
           "x": 0.05
          },
          "xaxis": {
           "automargin": true,
           "gridcolor": "white",
           "linecolor": "white",
           "ticks": "",
           "title": {
            "standoff": 15
           },
           "zerolinecolor": "white",
           "zerolinewidth": 2
          },
          "yaxis": {
           "automargin": true,
           "gridcolor": "white",
           "linecolor": "white",
           "ticks": "",
           "title": {
            "standoff": 15
           },
           "zerolinecolor": "white",
           "zerolinewidth": 2
          }
         }
        }
       }
      },
      "image/png": "[encoded data removed]",
      "text/html": [
       "<div>                            <div id=\"04153d8a-5f16-49b0-8b40-9fc78e5de097\" class=\"plotly-graph-div\" style=\"height:525px; width:100%;\"></div>            <script type=\"text/javascript\">                require([\"plotly\"], function(Plotly) {                    window.PLOTLYENV=window.PLOTLYENV || {};                                    if (document.getElementById(\"04153d8a-5f16-49b0-8b40-9fc78e5de097\")) {                    Plotly.newPlot(                        \"04153d8a-5f16-49b0-8b40-9fc78e5de097\",                        [{\"marker\":{\"color\":\"blue\",\"opacity\":1,\"size\":3},\"mode\":\"markers\",\"name\":\"Ligand Keypoints\",\"x\":[43.5400276184082,43.104156494140625,43.694549560546875,44.0953369140625,43.47262191772461,43.630653381347656,42.475425720214844,43.82192611694336,43.61221694946289,44.17397689819336,43.6805534362793,42.839630126953125,43.658668518066406,43.42313003540039,43.761531829833984,43.168365478515625,44.340476989746094,43.04497146606445,43.852352142333984,42.501705169677734,44.24449920654297,42.43881607055664,43.310768127441406,44.26471710205078,43.5824089050293,43.088924407958984,43.76580810546875,42.00400161743164,43.01959991455078,42.27155685424805],\"y\":[-2.2840611934661865,-3.0251505374908447,-1.5716584920883179,-2.9512505531311035,-2.33784556388855,-1.2365567684173584,-2.777693748474121,-0.3724198341369629,-2.9347047805786133,-3.02355694770813,-2.9466004371643066,-2.0685176849365234,-0.3489267826080322,-2.8116047382354736,-2.0352463722229004,-2.0284223556518555,-3.009342670440674,-1.3650325536727905,-0.046308040618896484,-2.4683051109313965,-2.979447603225708,-2.609740972518921,-2.7428648471832275,-2.985827684402466,-2.6663818359375,-2.2868692874908447,-2.70355224609375,-3.1352736949920654,-2.6798858642578125,-2.7034475803375244],\"z\":[29.83369255065918,28.165531158447266,31.327434539794922,25.33732795715332,29.796438217163086,33.11384582519531,34.391273498535156,34.37306213378906,26.921234130859375,24.944196701049805,26.70411491394043,34.66221237182617,35.26063919067383,28.306062698364258,29.52977180480957,33.299903869628906,24.553068161010742,35.45706558227539,35.09104919433594,35.37128829956055,24.720611572265625,35.1522102355957,28.707359313964844,24.67127227783203,28.17348289489746,32.67445755004883,27.366708755493164,35.73271179199219,31.006113052368164,35.761390686035156],\"type\":\"scatter3d\"},{\"marker\":{\"color\":\"red\",\"opacity\":1,\"size\":3},\"mode\":\"markers\",\"name\":\"Receptor Keypoints\",\"x\":[43.485897064208984,43.98948669433594,43.277591705322266,44.01401138305664,43.70299530029297,43.850948333740234,42.5440788269043,43.96170425415039,43.548797607421875,44.18632507324219,44.24211502075195,42.07351303100586,43.43051528930664,43.34720993041992,43.36241149902344,42.921409606933594,43.930904388427734,42.814842224121094,43.58415603637695,41.730995178222656,43.76972198486328,42.77172088623047,43.78400802612305,44.294857025146484,44.811885833740234,42.98786544799805,43.01301574707031,42.94969940185547,42.71138000488281,42.789398193359375],\"y\":[-1.7431902885437012,-1.7918161153793335,-0.6492927074432373,-3.6080682277679443,-1.1933302879333496,-0.4117799699306488,-3.419070243835449,-0.10217992216348648,-4.256414890289307,-2.3296313285827637,-1.8954359292984009,-1.8267189264297485,-1.254781723022461,-3.2491109371185303,-2.031317710876465,-2.4422099590301514,-4.518631935119629,-1.1923774480819702,-0.157610222697258,-4.745448589324951,-4.374248504638672,-1.8774176836013794,-1.9143563508987427,-3.3641176223754883,-0.8518681526184082,-2.8858141899108887,-3.462609052658081,-2.480743408203125,-3.9900624752044678,-1.116839051246643],\"z\":[30.35809326171875,27.772201538085938,31.88819694519043,24.556962966918945,30.00658416748047,33.68160629272461,33.9113655090332,35.318511962890625,25.790739059448242,24.353322982788086,25.377683639526367,34.28398895263672,36.157798767089844,28.269800186157227,31.18436622619629,33.59543228149414,23.421478271484375,36.104957580566406,36.09388732910156,34.74411392211914,24.28297233581543,34.8505744934082,28.653038024902344,23.46698760986328,27.694734573364258,32.83820724487305,28.3979434967041,35.59714126586914,31.843687057495117,35.90919494628906],\"type\":\"scatter3d\"},{\"marker\":{\"color\":\"blue\",\"opacity\":0.5,\"size\":3},\"mode\":\"markers\",\"name\":\"Ligand Coordinates\",\"x\":[43.965999603271484,44.26100158691406,44.132999420166016,43.7140007019043,43.409000396728516,43.52399826049805,44.117000579833984,43.823001861572266,44.553001403808594,43.50299835205078,43.02399826049805,43.073001861572266,42.917999267578125,42.64799880981445,42.48400115966797,42.17399978637695,42.0880012512207,41.06999969482422,43.029998779296875,42.599998474121094,42.858001708984375,43.01499938964844,43.244998931884766,43.018001556396484,44.60129928588867,44.35660171508789,43.2775993347168,43.940399169921875,43.47600173950195,44.79439926147461,44.6526985168457,43.653499603271484,42.71540069580078,42.56370162963867,42.96870040893555,41.20899963378906,42.48979949951172,44.04560089111328],\"y\":[-2.9639999866485596,-1.5779999494552612,-0.8650000095367432,-1.562000036239624,-2.871000051498413,-3.6050000190734863,-3.6619999408721924,-4.942999839782715,-3.0480000972747803,-1.121000051498413,-3.190000057220459,-2.0810000896453857,-1.9290000200271606,-3.0429999828338623,-2.940999984741211,-4.247000217437744,-4.09499979019165,-3.6059999465942383,-4.466000080108643,-1.6820000410079956,-0.6129999756813049,-0.7099999785423279,0.4339999854564667,1.1490000486373901,-1.0513999462127686,0.19429999589920044,-4.660600185394287,-5.424699783325195,-5.461900234222412,-2.0473999977111816,-3.56820011138916,-0.14429999887943268,-4.184899806976318,-4.02400016784668,-4.974800109863281,-4.638899803161621,-1.5458999872207642,0.8446000218391418],\"z\":[26.086999893188477,26.19499969482422,27.385000228881836,28.475000381469727,28.458999633789062,27.27899932861328,24.85099983215332,24.743999481201172,23.770999908447266,29.70199966430664,29.70199966430664,30.524999618530273,31.93899917602539,32.79199981689453,34.19499969482422,34.999000549316406,36.52199935913086,36.959999084472656,37.196998596191406,34.768001556396484,33.94499969482422,32.57400131225586,31.850000381469727,34.70800018310547,25.310699462890625,27.43950080871582,27.26930046081543,23.84119987487793,25.56329917907715,23.809499740600586,22.88759994506836,29.99220085144043,30.01959991455078,32.338600158691406,34.77799987792969,34.64509963989258,35.837799072265625,32.154598236083984],\"type\":\"scatter3d\"},{\"marker\":{\"color\":\"red\",\"opacity\":0.5,\"size\":3},\"mode\":\"markers\",\"name\":\"Receptor Keypoints\",\"x\":[52.720001220703125,52.617000579833984,54.845001220703125,56.555999755859375,60.222999572753906,62.35599899291992,61.96900177001953,65.39600372314453,65.90499877929688,64.07599639892578,63.130001068115234,59.470001220703125,59.96799850463867,56.249000549316406,55.49800109863281,54.757999420166016,54.178001403808594,51.34600067138672,52.64400100708008,50.97999954223633,53.86600112915039,53.974998474121094,53.31399917602539,49.57899856567383,48.93000030517578,50.606998443603516,49.895999908447266,51.16299819946289,52.65399932861328,50.856998443603516,52.44300079345703,54.68899917602539,51.92300033569336,49.34700012207031,49.1150016784668,46.36199951171875,45.51599884033203,42.41999816894531,39.529998779296875,39.51300048828125,43.06999969482422,41.79600143432617,42.70199966430664,43.90299987792969,47.551998138427734,49.0369987487793,52.66899871826172,53.547000885009766,56.986000061035156,58.5359992980957,61.80799865722656,61.652000427246094,62.992000579833984,63.599998474121094,60.75600051879883,62.52799987792969,65.91899871826172,66.60800170898438,68.94400024414062,68.94000244140625,66.4729995727539,63.57899856567383,61.29100036621094,58.66400146484375,55.86000061035156,52.66600036621094,49.40599822998047,47.553001403808594,44.180999755859375,42.79600143432617,39.819000244140625,37.85599899291992,35.625,32.09000015258789,30.398000717163086,32.79499816894531,30.788000106811523,32.6870002746582,30.437000274658203,31.024999618530273,34.29899978637695,32.858001708984375,34.76499938964844,37.67900085449219,39.89099884033203,41.2760009765625,43.52899932861328,46.03900146484375,47.474998474121094,50.99100112915039,51.76499938964844,54.766998291015625,55.683998107910156,58.11600112915039,61.505001068115234,61.2130012512207,64.35700225830078,65.21199798583984,64.41300201416016,61.150001525878906,58.9379997253418,55.244998931884766,53.430999755859375,51.03300094604492,47.2869987487793,45.85100173950195,43.99399948120117,42.222999572753906,41.40299987792969,43.58000183105469,42.465999603271484,42.38199996948242,45.75199890136719,47.60200119018555,50.641998291015625,51.09000015258789,53.46699905395508,51.98899841308594,54.215999603271484,54.0,55.1510009765625,52.05799865722656,51.972999572753906,54.00299835205078,52.11800003051758,48.744998931884766,48.50299835205078,49.88100051879883,51.47600173950195,55.051998138427734,55.667999267578125,58.83599853515625,61.33599853515625,61.87699890136719,59.54499816894531,58.137001037597656,57.01300048828125,54.67599868774414,53.97600173950195,50.32699966430664,47.88600158691406,44.40999984741211,41.78900146484375,38.68299865722656,35.55099868774414,33.83700180053711,36.47200012207031,36.4010009765625,32.573001861572266,32.68199920654297,35.06800079345703,33.1609992980957,29.54199981689453,27.500999450683594,30.506000518798828,32.220001220703125,31.165000915527344,32.159000396728516,34.784000396728516,36.729000091552734,38.81100082397461,40.62200164794922,44.316001892089844,46.37799835205078,46.5629997253418,43.59299850463867,46.005001068115234,46.76900100708008,50.31800079345703,50.89500045776367,48.763999938964844,48.72999954223633,47.529998779296875,46.694000244140625,49.29999923706055,49.534000396728516,46.060001373291016,46.1609992980957,49.2760009765625,49.845001220703125,48.970001220703125,51.00199890136719,50.625,52.66400146484375,53.707000732421875,50.22200012207031,48.512001037597656,45.57500076293945,44.67100143432617,44.7400016784668,45.10900115966797,41.69300079345703,40.446998596191406,40.26499938964844,39.183998107910156,42.233001708984375,45.44599914550781,46.81399917602539,43.91299819946289,42.97700119018555,40.17399978637695,40.14400100708008,42.25600051879883,42.77399826049805,40.2599983215332,41.49599838256836,39.93899917602539,39.6870002746582,41.5260009765625,40.604000091552734,37.005001068115234,38.250999450683594,40.608001708984375,38.19200134277344,37.2599983215332,40.94900131225586,41.790000915527344,38.76300048828125,39.316001892089844,43.03200149536133,42.20399856567383,39.8390007019043,42.01499938964844],\"y\":[-3.5450000762939453,-7.2230000495910645,-8.390999794006348,-4.98199987411499,-3.934000015258789,-1.6519999504089355,1.809999942779541,3.0439999103546143,5.88700008392334,9.109999656677246,8.107999801635742,8.913999557495117,12.378999710083008,13.128999710083008,10.02299976348877,10.706999778747559,8.395000457763672,9.258000373840332,8.416999816894531,8.038000106811523,6.244999885559082,3.8399999141693115,4.111999988555908,3.624000072479248,5.1539998054504395,6.89300012588501,10.253000259399414,12.53499984741211,16.003999710083008,18.336999893188477,21.667999267578125,22.683000564575195,22.759000778198242,20.211999893188477,16.42099952697754,14.335000038146973,10.965999603271484,8.779999732971191,9.657999992370605,6.271999835968018,6.986999988555908,9.888999938964844,10.005000114440918,12.746999740600586,13.123000144958496,12.711000442504883,13.51200008392334,13.604000091552734,12.185999870300293,13.397000312805176,12.312000274658203,8.829000473022461,5.599999904632568,3.359999895095825,4.448999881744385,2.803999900817871,4.574999809265137,8.310999870300293,8.234999656677246,11.958000183105469,13.829999923706055,13.279999732971191,16.190000534057617,15.371999740600586,17.920000076293945,17.822999954223633,18.156999588012695,21.40399932861328,20.090999603271484,17.159000396728516,17.76099967956543,14.642999649047852,15.04800033569336,16.06999969482422,13.310999870300293,10.557000160217285,7.331999778747559,4.934999942779541,2.072999954223633,2.306999921798706,4.261000156402588,6.589000225067139,9.958999633789062,8.357000350952148,11.446999549865723,13.779000282287598,16.871000289916992,17.468000411987305,20.878999710083008,20.910999298095703,23.07900047302246,24.55699920654297,24.34000015258789,21.59600067138672,22.52899932861328,21.14299964904785,19.91699981689453,16.94300079345703,14.50100040435791,16.12299919128418,17.384000778198242,17.72599983215332,15.840999603271484,17.54199981689453,17.184999465942383,16.017000198364258,18.117000579833984,15.147000312805176,11.640000343322754,8.76099967956543,6.0320000648498535,2.2880001068115234,0.7229999899864197,3.7920000553131104,2.4830000400543213,3.98799991607666,3.825000047683716,2.815000057220459,3.058000087738037,2.5179998874664307,0.7860000133514404,-1.4420000314712524,-5.197000026702881,-7.234000205993652,-10.559000015258789,-11.475000381469727,-14.402000427246094,-12.946999549865723,-9.680999755859375,-8.550000190734863,-4.794000148773193,-3.497999906539917,-0.9710000157356262,0.6880000233650208,1.9509999752044678,-0.5239999890327454,0.2639999985694885,-1.3949999809265137,-0.5080000162124634,-1.3140000104904175,-0.4269999861717224,1.1330000162124634,-1.4639999866485596,-0.796999990940094,0.1420000046491623,-3.0190000534057617,-5.296000003814697,-3.3429999351501465,-3.5320000648498535,-7.140999794006348,-7.750999927520752,-5.709000110626221,-5.665999889373779,-2.933000087738037,-1.5290000438690186,0.7630000114440918,4.394000053405762,7.000999927520752,8.182999610900879,4.945000171661377,3.0,-0.3199999928474426,-0.8019999861717224,-3.9790000915527344,-7.573999881744385,-9.954000473022461,-12.890999794006348,-11.824000358581543,-11.652999877929688,-7.870999813079834,-5.257999897003174,-2.5420000553131104,-3.6610000133514404,-2.377000093460083,0.1860000044107437,1.5529999732971191,3.305999994277954,7.013999938964844,6.771999835968018,7.736999988555908,6.2210001945495605,8.432000160217285,8.133999824523926,10.230999946594238,12.49899959564209,13.342000007629395,12.020999908447266,10.052000045776367,7.8979997634887695,7.3429999351501465,3.7660000324249268,3.015000104904175,-0.6190000176429749,-4.105999946594238,-7.673999786376953,-9.130999565124512,-8.1850004196167,-9.574000358581543,-12.095999717712402,-13.286999702453613,-11.232999801635742,-8.788000106811523,-5.800000190734863,-2.7269999980926514,0.1289999932050705,3.691999912261963,7.074999809265137,8.875,12.12600040435791,13.899999618530273,14.112000465393066,16.114999771118164,18.72800064086914,21.655000686645508,20.56399917602539,20.298999786376953,23.698999404907227,25.43600082397461,23.836999893188477,24.743999481201172,28.260000228881836,28.770000457763672,27.191999435424805],\"z\":[25.434999465942383,24.437000274658203,21.555999755859375,21.194000244140625,21.368000030517578,23.54199981689453,22.086000442504883,23.125,25.64900016784668,24.891000747680664,21.354999542236328,22.165000915527344,23.768999099731445,24.117000579833984,26.229999542236328,29.89299964904785,32.87900161743164,35.35300064086914,38.805999755859375,42.25899887084961,44.029998779296875,41.00600051879883,37.268001556396484,36.57400131225586,33.09600067138672,30.173999786376953,28.506000518798828,25.732999801635742,26.07900047302246,23.606000900268555,24.695999145507812,27.645000457763672,30.18400001525879,29.02199935913086,28.749000549316406,27.170000076293945,28.709999084472656,29.211000442504883,31.461999893188477,33.178001403808594,34.3849983215332,36.500999450683594,40.24399948120117,42.5629997253418,43.52899932861328,40.06399917602539,39.37799835205078,35.65599822998047,34.823001861572266,31.576000213623047,29.94499969482422,31.295000076293945,29.89900016784668,32.986000061035156,35.41299819946289,38.39799880981445,37.97600173950195,37.810001373291016,34.72999954223633,33.94499969482422,31.621999740600586,33.983001708984375,34.94499969482422,37.69200134277344,37.77299880981445,39.742000579833984,37.880001068115234,38.875999450683594,37.49599838256836,35.5260009765625,33.2400016784668,32.41299819946289,29.34000015258789,30.673999786376953,28.611000061035156,29.645000457763672,30.31800079345703,32.59700012207031,31.535999298095703,27.761999130249023,27.91699981689453,25.26099967956543,25.35300064086914,27.260000228881836,27.23900032043457,29.885000228881836,29.808000564575195,32.63800048828125,33.27299880981445,34.808998107910156,37.89400100708008,35.999000549316406,32.34299850463867,31.29199981689453,29.660999298095703,26.148000717163086,24.45400047302246,22.243999481201172,25.024999618530273,26.121999740600586,23.2810001373291,22.496000289916992,19.753000259399414,17.29199981689453,17.29800033569336,13.911999702453613,11.399999618530273,9.831999778747559,11.041999816894531,9.819000244140625,7.447000026702881,7.947999954223633,7.229000091552734,8.569000244140625,10.543999671936035,14.010000228881836,16.950000762939453,20.327999114990234,23.416000366210938,27.172000885009766,30.3799991607666,30.562999725341797,31.013999938964844,28.533000946044922,29.143999099731445,27.756000518798828,30.158000946044922,33.42300033569336,34.57699966430664,33.82600021362305,33.94900131225586,32.277000427246094,33.597999572753906,30.20400047302246,27.53499984741211,25.006999969482422,21.488000869750977,19.075000762939453,15.447999954223633,14.593999862670898,11.822999954223633,12.258000373840332,11.262999534606934,9.178000450134277,11.081999778747559,9.82699966430664,11.279000282287598,14.538999557495117,14.87600040435791,13.901000022888184,16.785999298095703,19.36199951171875,18.158000946044922,19.833999633789062,21.78499984741211,19.264999389648438,19.035999298095703,16.488000869750977,19.051000595092773,18.961000442504883,16.422000885009766,16.551000595092773,15.824999809265137,16.027000427246094,14.8100004196167,14.621999740600586,14.895000457763672,18.55299949645996,20.07200050354004,19.599000930786133,21.481000900268555,24.170000076293945,27.66200065612793,31.172000885009766,32.14899826049805,28.638999938964844,28.98699951171875,28.360000610351562,26.2189998626709,22.575000762939453,19.204999923706055,16.783000946044922,13.057999610900879,10.659000396728516,13.473999977111816,14.75,17.902000427246094,16.430999755859375,19.429000854492188,23.177000045776367,24.506999969482422,26.051000595092773,26.273000717163086,24.746000289916992,25.746999740600586,27.476999282836914,25.76300048828125,22.533000946044922,22.148000717163086,18.676000595092773,17.065000534057617,20.04199981689453,18.91200065612793,21.06999969482422,21.027000427246094,21.0939998626709,21.635000228881836,18.250999450683594,18.944000244140625,15.644000053405762,17.02400016784668,19.98699951171875,18.58799934387207,18.948999404907227,22.4950008392334,23.41699981689453,22.010000228881836,23.57200050354004,26.93600082397461,27.020999908447266,25.867000579833984,28.812999725341797,31.591999053955078],\"type\":\"scatter3d\"}],                        {\"scene\":{\"xaxis\":{\"visible\":false},\"yaxis\":{\"visible\":false},\"zaxis\":{\"visible\":false}},\"template\":{\"data\":{\"bar\":[{\"error_x\":{\"color\":\"#2a3f5f\"},\"error_y\":{\"color\":\"#2a3f5f\"},\"marker\":{\"line\":{\"color\":\"#E5ECF6\",\"width\":0.5},\"pattern\":{\"fillmode\":\"overlay\",\"size\":10,\"solidity\":0.2}},\"type\":\"bar\"}],\"barpolar\":[{\"marker\":{\"line\":{\"color\":\"#E5ECF6\",\"width\":0.5},\"pattern\":{\"fillmode\":\"overlay\",\"size\":10,\"solidity\":0.2}},\"type\":\"barpolar\"}],\"carpet\":[{\"aaxis\":{\"endlinecolor\":\"#2a3f5f\",\"gridcolor\":\"white\",\"linecolor\":\"white\",\"minorgridcolor\":\"white\",\"startlinecolor\":\"#2a3f5f\"},\"baxis\":{\"endlinecolor\":\"#2a3f5f\",\"gridcolor\":\"white\",\"linecolor\":\"white\",\"minorgridcolor\":\"white\",\"startlinecolor\":\"#2a3f5f\"},\"type\":\"carpet\"}],\"choropleth\":[{\"colorbar\":{\"outlinewidth\":0,\"ticks\":\"\"},\"type\":\"choropleth\"}],\"contour\":[{\"colorbar\":{\"outlinewidth\":0,\"ticks\":\"\"},\"colorscale\":[[0.0,\"#0d0887\"],[0.1111111111111111,\"#46039f\"],[0.2222222222222222,\"#7201a8\"],[0.3333333333333333,\"#9c179e\"],[0.4444444444444444,\"#bd3786\"],[0.5555555555555556,\"#d8576b\"],[0.6666666666666666,\"#ed7953\"],[0.7777777777777778,\"#fb9f3a\"],[0.8888888888888888,\"#fdca26\"],[1.0,\"#f0f921\"]],\"type\":\"contour\"}],\"contourcarpet\":[{\"colorbar\":{\"outlinewidth\":0,\"ticks\":\"\"},\"type\":\"contourcarpet\"}],\"heatmap\":[{\"colorbar\":{\"outlinewidth\":0,\"ticks\":\"\"},\"colorscale\":[[0.0,\"#0d0887\"],[0.1111111111111111,\"#46039f\"],[0.2222222222222222,\"#7201a8\"],[0.3333333333333333,\"#9c179e\"],[0.4444444444444444,\"#bd3786\"],[0.5555555555555556,\"#d8576b\"],[0.6666666666666666,\"#ed7953\"],[0.7777777777777778,\"#fb9f3a\"],[0.8888888888888888,\"#fdca26\"],[1.0,\"#f0f921\"]],\"type\":\"heatmap\"}],\"heatmapgl\":[{\"colorbar\":{\"outlinewidth\":0,\"ticks\":\"\"},\"colorscale\":[[0.0,\"#0d0887\"],[0.1111111111111111,\"#46039f\"],[0.2222222222222222,\"#7201a8\"],[0.3333333333333333,\"#9c179e\"],[0.4444444444444444,\"#bd3786\"],[0.5555555555555556,\"#d8576b\"],[0.6666666666666666,\"#ed7953\"],[0.7777777777777778,\"#fb9f3a\"],[0.8888888888888888,\"#fdca26\"],[1.0,\"#f0f921\"]],\"type\":\"heatmapgl\"}],\"histogram\":[{\"marker\":{\"pattern\":{\"fillmode\":\"overlay\",\"size\":10,\"solidity\":0.2}},\"type\":\"histogram\"}],\"histogram2d\":[{\"colorbar\":{\"outlinewidth\":0,\"ticks\":\"\"},\"colorscale\":[[0.0,\"#0d0887\"],[0.1111111111111111,\"#46039f\"],[0.2222222222222222,\"#7201a8\"],[0.3333333333333333,\"#9c179e\"],[0.4444444444444444,\"#bd3786\"],[0.5555555555555556,\"#d8576b\"],[0.6666666666666666,\"#ed7953\"],[0.7777777777777778,\"#fb9f3a\"],[0.8888888888888888,\"#fdca26\"],[1.0,\"#f0f921\"]],\"type\":\"histogram2d\"}],\"histogram2dcontour\":[{\"colorbar\":{\"outlinewidth\":0,\"ticks\":\"\"},\"colorscale\":[[0.0,\"#0d0887\"],[0.1111111111111111,\"#46039f\"],[0.2222222222222222,\"#7201a8\"],[0.3333333333333333,\"#9c179e\"],[0.4444444444444444,\"#bd3786\"],[0.5555555555555556,\"#d8576b\"],[0.6666666666666666,\"#ed7953\"],[0.7777777777777778,\"#fb9f3a\"],[0.8888888888888888,\"#fdca26\"],[1.0,\"#f0f921\"]],\"type\":\"histogram2dcontour\"}],\"mesh3d\":[{\"colorbar\":{\"outlinewidth\":0,\"ticks\":\"\"},\"type\":\"mesh3d\"}],\"parcoords\":[{\"line\":{\"colorbar\":{\"outlinewidth\":0,\"ticks\":\"\"}},\"type\":\"parcoords\"}],\"pie\":[{\"automargin\":true,\"type\":\"pie\"}],\"scatter\":[{\"marker\":{\"colorbar\":{\"outlinewidth\":0,\"ticks\":\"\"}},\"type\":\"scatter\"}],\"scatter3d\":[{\"line\":{\"colorbar\":{\"outlinewidth\":0,\"ticks\":\"\"}},\"marker\":{\"colorbar\":{\"outlinewidth\":0,\"ticks\":\"\"}},\"type\":\"scatter3d\"}],\"scattercarpet\":[{\"marker\":{\"colorbar\":{\"outlinewidth\":0,\"ticks\":\"\"}},\"type\":\"scattercarpet\"}],\"scattergeo\":[{\"marker\":{\"colorbar\":{\"outlinewidth\":0,\"ticks\":\"\"}},\"type\":\"scattergeo\"}],\"scattergl\":[{\"marker\":{\"colorbar\":{\"outlinewidth\":0,\"ticks\":\"\"}},\"type\":\"scattergl\"}],\"scattermapbox\":[{\"marker\":{\"colorbar\":{\"outlinewidth\":0,\"ticks\":\"\"}},\"type\":\"scattermapbox\"}],\"scatterpolar\":[{\"marker\":{\"colorbar\":{\"outlinewidth\":0,\"ticks\":\"\"}},\"type\":\"scatterpolar\"}],\"scatterpolargl\":[{\"marker\":{\"colorbar\":{\"outlinewidth\":0,\"ticks\":\"\"}},\"type\":\"scatterpolargl\"}],\"scatterternary\":[{\"marker\":{\"colorbar\":{\"outlinewidth\":0,\"ticks\":\"\"}},\"type\":\"scatterternary\"}],\"surface\":[{\"colorbar\":{\"outlinewidth\":0,\"ticks\":\"\"},\"colorscale\":[[0.0,\"#0d0887\"],[0.1111111111111111,\"#46039f\"],[0.2222222222222222,\"#7201a8\"],[0.3333333333333333,\"#9c179e\"],[0.4444444444444444,\"#bd3786\"],[0.5555555555555556,\"#d8576b\"],[0.6666666666666666,\"#ed7953\"],[0.7777777777777778,\"#fb9f3a\"],[0.8888888888888888,\"#fdca26\"],[1.0,\"#f0f921\"]],\"type\":\"surface\"}],\"table\":[{\"cells\":{\"fill\":{\"color\":\"#EBF0F8\"},\"line\":{\"color\":\"white\"}},\"header\":{\"fill\":{\"color\":\"#C8D4E3\"},\"line\":{\"color\":\"white\"}},\"type\":\"table\"}]},\"layout\":{\"annotationdefaults\":{\"arrowcolor\":\"#2a3f5f\",\"arrowhead\":0,\"arrowwidth\":1},\"autotypenumbers\":\"strict\",\"coloraxis\":{\"colorbar\":{\"outlinewidth\":0,\"ticks\":\"\"}},\"colorscale\":{\"diverging\":[[0,\"#8e0152\"],[0.1,\"#c51b7d\"],[0.2,\"#de77ae\"],[0.3,\"#f1b6da\"],[0.4,\"#fde0ef\"],[0.5,\"#f7f7f7\"],[0.6,\"#e6f5d0\"],[0.7,\"#b8e186\"],[0.8,\"#7fbc41\"],[0.9,\"#4d9221\"],[1,\"#276419\"]],\"sequential\":[[0.0,\"#0d0887\"],[0.1111111111111111,\"#46039f\"],[0.2222222222222222,\"#7201a8\"],[0.3333333333333333,\"#9c179e\"],[0.4444444444444444,\"#bd3786\"],[0.5555555555555556,\"#d8576b\"],[0.6666666666666666,\"#ed7953\"],[0.7777777777777778,\"#fb9f3a\"],[0.8888888888888888,\"#fdca26\"],[1.0,\"#f0f921\"]],\"sequentialminus\":[[0.0,\"#0d0887\"],[0.1111111111111111,\"#46039f\"],[0.2222222222222222,\"#7201a8\"],[0.3333333333333333,\"#9c179e\"],[0.4444444444444444,\"#bd3786\"],[0.5555555555555556,\"#d8576b\"],[0.6666666666666666,\"#ed7953\"],[0.7777777777777778,\"#fb9f3a\"],[0.8888888888888888,\"#fdca26\"],[1.0,\"#f0f921\"]]},\"colorway\":[\"#636efa\",\"#EF553B\",\"#00cc96\",\"#ab63fa\",\"#FFA15A\",\"#19d3f3\",\"#FF6692\",\"#B6E880\",\"#FF97FF\",\"#FECB52\"],\"font\":{\"color\":\"#2a3f5f\"},\"geo\":{\"bgcolor\":\"white\",\"lakecolor\":\"white\",\"landcolor\":\"#E5ECF6\",\"showlakes\":true,\"showland\":true,\"subunitcolor\":\"white\"},\"hoverlabel\":{\"align\":\"left\"},\"hovermode\":\"closest\",\"mapbox\":{\"style\":\"light\"},\"paper_bgcolor\":\"white\",\"plot_bgcolor\":\"#E5ECF6\",\"polar\":{\"angularaxis\":{\"gridcolor\":\"white\",\"linecolor\":\"white\",\"ticks\":\"\"},\"bgcolor\":\"#E5ECF6\",\"radialaxis\":{\"gridcolor\":\"white\",\"linecolor\":\"white\",\"ticks\":\"\"}},\"scene\":{\"xaxis\":{\"backgroundcolor\":\"#E5ECF6\",\"gridcolor\":\"white\",\"gridwidth\":2,\"linecolor\":\"white\",\"showbackground\":true,\"ticks\":\"\",\"zerolinecolor\":\"white\"},\"yaxis\":{\"backgroundcolor\":\"#E5ECF6\",\"gridcolor\":\"white\",\"gridwidth\":2,\"linecolor\":\"white\",\"showbackground\":true,\"ticks\":\"\",\"zerolinecolor\":\"white\"},\"zaxis\":{\"backgroundcolor\":\"#E5ECF6\",\"gridcolor\":\"white\",\"gridwidth\":2,\"linecolor\":\"white\",\"showbackground\":true,\"ticks\":\"\",\"zerolinecolor\":\"white\"}},\"shapedefaults\":{\"line\":{\"color\":\"#2a3f5f\"}},\"ternary\":{\"aaxis\":{\"gridcolor\":\"white\",\"linecolor\":\"white\",\"ticks\":\"\"},\"baxis\":{\"gridcolor\":\"white\",\"linecolor\":\"white\",\"ticks\":\"\"},\"bgcolor\":\"#E5ECF6\",\"caxis\":{\"gridcolor\":\"white\",\"linecolor\":\"white\",\"ticks\":\"\"}},\"title\":{\"x\":0.05},\"xaxis\":{\"automargin\":true,\"gridcolor\":\"white\",\"linecolor\":\"white\",\"ticks\":\"\",\"title\":{\"standoff\":15},\"zerolinecolor\":\"white\",\"zerolinewidth\":2},\"yaxis\":{\"automargin\":true,\"gridcolor\":\"white\",\"linecolor\":\"white\",\"ticks\":\"\",\"title\":{\"standoff\":15},\"zerolinecolor\":\"white\",\"zerolinewidth\":2}}}},                        {\"responsive\": true}                    ).then(function(){\n",
       "                            \n",
       "var gd = document.getElementById('04153d8a-5f16-49b0-8b40-9fc78e5de097');\n",
       "var x = new MutationObserver(function (mutations, observer) {{\n",
       "        var display = window.getComputedStyle(gd).display;\n",
       "        if (!display || display === 'none') {{\n",
       "            console.log([gd, 'removed!']);\n",
       "            Plotly.purge(gd);\n",
       "            observer.disconnect();\n",
       "        }}\n",
       "}});\n",
       "\n",
       "// Listen for the removal of the full notebook cells\n",
       "var notebookContainer = gd.closest('#notebook-container');\n",
       "if (notebookContainer) {{\n",
       "    x.observe(notebookContainer, {childList: true});\n",
       "}}\n",
       "\n",
       "// Listen for the clearing of the current output cell\n",
       "var outputEl = gd.closest('.output');\n",
       "if (outputEl) {{\n",
       "    x.observe(outputEl, {childList: true});\n",
       "}}\n",
       "\n",
       "                        })                };                });            </script>        </div>"
      ]
     },
     "metadata": {},
     "output_type": "display_data"
    }
   ],
   "source": [
    "visualize_pair(lig_keypts[indices[i]].numpy(), lig_coords[indices[i]].numpy(), rec_keypts[indices[i]].numpy(), rec_coords[indices[i]], names[indices[i]])"
   ]
  },
  {
   "cell_type": "code",
   "execution_count": null,
   "id": "abca6fdf-c941-41c1-82a1-c636dcca0539",
   "metadata": {},
   "outputs": [],
   "source": []
  }
 ],
 "metadata": {
  "kernelspec": {
   "display_name": "Python 3 (ipykernel)",
   "language": "python",
   "name": "python3"
  },
  "language_info": {
   "codemirror_mode": {
    "name": "ipython",
    "version": 3
   },
   "file_extension": ".py",
   "mimetype": "text/x-python",
   "name": "python",
   "nbconvert_exporter": "python",
   "pygments_lexer": "ipython3",
   "version": "3.7.12"
  }
 },
 "nbformat": 4,
 "nbformat_minor": 5
}
